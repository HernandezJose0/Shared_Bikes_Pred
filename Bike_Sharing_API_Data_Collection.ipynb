{
    "cells": [
        {
            "cell_type": "markdown",
            "metadata": {},
            "source": "<a href=\"https://cognitiveclass.ai/?utm_medium=Exinfluencer&utm_source=Exinfluencer&utm_content=000026UJ&utm_term=10006555&utm_id=NA-SkillsNetwork-Channel-SkillsNetworkCoursesIBMDeveloperSkillsNetworkRP0321ENSkillsNetwork25371262-2021-01-01\">\n    <img src=\"https://cf-courses-data.s3.us.cloud-object-storage.appdomain.cloud/IBMDeveloperSkillsNetwork-RP0101EN-Coursera/v2/M1_R_Basics/images/IDSNlogo.png\" width=\"200\" align=\"center\">\n</a>\n"
        },
        {
            "cell_type": "markdown",
            "metadata": {},
            "source": "<h1>OpenWeather APIs Calls</h1>\n\nEstimated time needed: **40** minutes\n"
        },
        {
            "cell_type": "markdown",
            "metadata": {},
            "source": "## Lab Overview:\n\nIn this lab, you will be collecting real-time current and forecasted weather data for cities using the **OpenWeather API**. It can give you current weather data for any location including over 200,000 cities and 5 day forecasts for free (with limited API usage). You just need to use HTTP requests to call those weather APIs and get the weather data.\n\nYou will be given instructions to set up a free OpenWeather API account with an API key for authentication. Then, you will be shown, with code examples, how to get the current weather for a given city. After you are familiar with OpenWeather API, you will be asked to get 5-day forecast data for a list of cities.\n"
        },
        {
            "cell_type": "markdown",
            "metadata": {},
            "source": "## Setup OpenWeather API account\n"
        },
        {
            "cell_type": "markdown",
            "metadata": {},
            "source": "You can create an OpenWeather API account [here](https://home.openweathermap.org/users/sign_up?utm_medium=Exinfluencer&utm_source=Exinfluencer&utm_content=000026UJ&utm_term=10006555&utm_id=NA-SkillsNetwork-Channel-SkillsNetworkCoursesIBMDeveloperSkillsNetworkRP0321ENSkillsNetwork25371262-2021-01-01). After your account has been created and verified, you can go to Account -> My API Keys:\n"
        },
        {
            "cell_type": "markdown",
            "metadata": {},
            "source": "<a href=\"https://cognitiveclass.ai/?utm_medium=Exinfluencer&utm_source=Exinfluencer&utm_content=000026UJ&utm_term=10006555&utm_id=NA-SkillsNetwork-Channel-SkillsNetworkCoursesIBMDeveloperSkillsNetworkRP0321ENSkillsNetwork25371262-2021-01-01\">\n    <img src=\"https://cf-courses-data.s3.us.cloud-object-storage.appdomain.cloud/IBMDeveloperSkillsNetwork-RP0321EN-SkillsNetwork/labs/module_1/images/l2-openweather-apikey.png\" width=\"400\" align=\"center\">\n</a>\n"
        },
        {
            "cell_type": "markdown",
            "metadata": {},
            "source": "and find your API key here:\n"
        },
        {
            "cell_type": "markdown",
            "metadata": {},
            "source": "<a href=\"https://cognitiveclass.ai/?utm_medium=Exinfluencer&utm_source=Exinfluencer&utm_content=000026UJ&utm_term=10006555&utm_id=NA-SkillsNetwork-Channel-SkillsNetworkCoursesIBMDeveloperSkillsNetworkRP0321ENSkillsNetwork25371262-2021-01-01\">\n    <img src=\"https://cf-courses-data.s3.us.cloud-object-storage.appdomain.cloud/IBMDeveloperSkillsNetwork-RP0321EN-SkillsNetwork/labs/module_1/images/l2-openweather-apikey-value.png\" width=\"400\" align=\"center\">\n</a>\n"
        },
        {
            "cell_type": "markdown",
            "metadata": {},
            "source": "Now mark down your generated API key, which will be used to authenticate your HTTP requests to OpenWeather API.\n\nNote that a new API key may take some time to be activated. You may quickly try the following URL using a web browser.\n\nWith the `{your_api_key}` URL parameter replaced by your own API key and go to the following URL:\n\n[https://api.openweathermap.org/data/2.5/weather?q=Seoul\\&appid={your_api_key}](https://api.openweathermap.org/data/2.5/weather?utm_medium=Exinfluencer&utm_source=Exinfluencer&utm_content=000026UJ&utm_term=10006555&utm_id=NA-SkillsNetwork-Channel-SkillsNetworkCoursesIBMDeveloperSkillsNetworkRP0321ENSkillsNetwork25371262-2021-01-01&q=Seoul&appid=%7Bad13f9da2c0a6c34c3da241fc5843bac%7D)\n"
        },
        {
            "cell_type": "markdown",
            "metadata": {},
            "source": "until you see some weather data returned (instead of 401 or other error status), similar to the following JSON result:\n\n```\n{\"coord\":{\"lon\":126.9778,\"lat\":37.5683},\n\"weather\":[{\"id\":800,\"main\":\"Clear\",\"description\":\"clear sky\",\"icon\":\"01n\"}],\n\"base\":\"stations\",\n\"main\":{\"temp\":285.16,\"feels_like\":284.04,\"temp_min\":284.15,\"temp_max\":287.15,\"pressure\":1020,\"humidity\":62},\n\"visibility\":10000,\n\"wind\":{\"speed\":1.03,\"deg\":220},\"clouds\":{\"all\":0},\"dt\":1617718307,\"sys\":{\"type\":1,\"id\":8105,\"country\":\"KR\",\"sunrise\":1617657021,\"sunset\":1617703103},\"timezone\":32400,\"id\":1835848,\"name\":\"Seoul\",\"cod\":200}\n```\n"
        },
        {
            "cell_type": "markdown",
            "metadata": {},
            "source": "## Coding Practice: Get the current weather data for a city using OpenWeather API\n"
        },
        {
            "cell_type": "markdown",
            "metadata": {},
            "source": "First import `httr` library\n"
        },
        {
            "cell_type": "code",
            "execution_count": 1,
            "metadata": {},
            "outputs": [
                {
                    "name": "stderr",
                    "output_type": "stream",
                    "text": "Loading required package: httr\n"
                }
            ],
            "source": "# Check if need to install rvest` library\nrequire(\"httr\")\n\nlibrary(httr)"
        },
        {
            "cell_type": "markdown",
            "metadata": {},
            "source": "The API base URL to get current weather is [https://api.openweathermap.org/data/2.5/weather](https://api.openweathermap.org/data/2.5/weather?utm_medium=Exinfluencer&utm_source=Exinfluencer&utm_content=000026UJ&utm_term=10006555&utm_id=NA-SkillsNetwork-Channel-SkillsNetworkCoursesIBMDeveloperSkillsNetworkRP0321ENSkillsNetwork25371262-2021-01-01)\n"
        },
        {
            "cell_type": "code",
            "execution_count": 2,
            "metadata": {},
            "outputs": [],
            "source": "# URL for Current Weather API\ncurrent_weather_url <- 'https://api.openweathermap.org/data/2.5/weather'"
        },
        {
            "cell_type": "markdown",
            "metadata": {},
            "source": "Next, let's create a list to hold URL parameters for current weather API\n"
        },
        {
            "cell_type": "code",
            "execution_count": 5,
            "metadata": {},
            "outputs": [],
            "source": "# need to be replaced by your real API key\nyour_api_key <- \"ad13f9da2c0a6c34c3da241fc5843bac\"\n# Input `q` is the city name\n# Input `appid` is your API KEY, \n# Input `units` are preferred units such as Metric or Imperial\ncurrent_query <- list(q = \"Seoul\", appid = your_api_key, units=\"metric\")"
        },
        {
            "cell_type": "markdown",
            "metadata": {},
            "source": "Now we can make a HTTP request to the current weather API\n"
        },
        {
            "cell_type": "code",
            "execution_count": 25,
            "metadata": {},
            "outputs": [],
            "source": "response <- GET(current_weather_url, query=current_query)"
        },
        {
            "cell_type": "markdown",
            "metadata": {},
            "source": "If we check the response type, we can see it is in JSON format\n"
        },
        {
            "cell_type": "code",
            "execution_count": 26,
            "metadata": {},
            "outputs": [
                {
                    "data": {
                        "text/html": "'application/json'",
                        "text/latex": "'application/json'",
                        "text/markdown": "'application/json'",
                        "text/plain": "[1] \"application/json\""
                    },
                    "metadata": {},
                    "output_type": "display_data"
                }
            ],
            "source": "http_type(response)"
        },
        {
            "cell_type": "markdown",
            "metadata": {},
            "source": "JSON is an open standard file and data interchange format that uses human-readable text to store and transmit data objects. To read the JSON HTTP response, you can use the `content()` function to parse it as a named list in R.\n"
        },
        {
            "cell_type": "code",
            "execution_count": 27,
            "metadata": {},
            "outputs": [],
            "source": "json_result <- content(response, as=\"parsed\")"
        },
        {
            "cell_type": "markdown",
            "metadata": {},
            "source": "If you use the `class()` function, you can see it is a R `List` object\n"
        },
        {
            "cell_type": "code",
            "execution_count": 28,
            "metadata": {},
            "outputs": [
                {
                    "data": {
                        "text/html": "'list'",
                        "text/latex": "'list'",
                        "text/markdown": "'list'",
                        "text/plain": "[1] \"list\""
                    },
                    "metadata": {},
                    "output_type": "display_data"
                }
            ],
            "source": "class(json_result)"
        },
        {
            "cell_type": "markdown",
            "metadata": {},
            "source": "Now let's print the JSON result.\n"
        },
        {
            "cell_type": "code",
            "execution_count": 29,
            "metadata": {},
            "outputs": [
                {
                    "data": {
                        "text/html": "<dl>\n\t<dt>$coord</dt>\n\t\t<dd><dl>\n\t<dt>$lon</dt>\n\t\t<dd>126.9778</dd>\n\t<dt>$lat</dt>\n\t\t<dd>37.5683</dd>\n</dl>\n</dd>\n\t<dt>$weather</dt>\n\t\t<dd><ol>\n\t<li><dl>\n\t<dt>$id</dt>\n\t\t<dd>800</dd>\n\t<dt>$main</dt>\n\t\t<dd>'Clear'</dd>\n\t<dt>$description</dt>\n\t\t<dd>'clear sky'</dd>\n\t<dt>$icon</dt>\n\t\t<dd>'01n'</dd>\n</dl>\n</li>\n</ol>\n</dd>\n\t<dt>$base</dt>\n\t\t<dd>'stations'</dd>\n\t<dt>$main</dt>\n\t\t<dd><dl>\n\t<dt>$temp</dt>\n\t\t<dd>15.16</dd>\n\t<dt>$feels_like</dt>\n\t\t<dd>14.56</dd>\n\t<dt>$temp_min</dt>\n\t\t<dd>13.69</dd>\n\t<dt>$temp_max</dt>\n\t\t<dd>15.78</dd>\n\t<dt>$pressure</dt>\n\t\t<dd>1012</dd>\n\t<dt>$humidity</dt>\n\t\t<dd>70</dd>\n</dl>\n</dd>\n\t<dt>$visibility</dt>\n\t\t<dd>10000</dd>\n\t<dt>$wind</dt>\n\t\t<dd><dl>\n\t<dt>$speed</dt>\n\t\t<dd>3.6</dd>\n\t<dt>$deg</dt>\n\t\t<dd>210</dd>\n</dl>\n</dd>\n\t<dt>$clouds</dt>\n\t\t<dd><strong>$all</strong> = 0</dd>\n\t<dt>$dt</dt>\n\t\t<dd>1652709484</dd>\n\t<dt>$sys</dt>\n\t\t<dd><dl>\n\t<dt>$type</dt>\n\t\t<dd>1</dd>\n\t<dt>$id</dt>\n\t\t<dd>8105</dd>\n\t<dt>$country</dt>\n\t\t<dd>'KR'</dd>\n\t<dt>$sunrise</dt>\n\t\t<dd>1652646148</dd>\n\t<dt>$sunset</dt>\n\t\t<dd>1652697277</dd>\n</dl>\n</dd>\n\t<dt>$timezone</dt>\n\t\t<dd>32400</dd>\n\t<dt>$id</dt>\n\t\t<dd>1835848</dd>\n\t<dt>$name</dt>\n\t\t<dd>'Seoul'</dd>\n\t<dt>$cod</dt>\n\t\t<dd>200</dd>\n</dl>\n",
                        "text/latex": "\\begin{description}\n\\item[\\$coord] \\begin{description}\n\\item[\\$lon] 126.9778\n\\item[\\$lat] 37.5683\n\\end{description}\n\n\\item[\\$weather] \\begin{enumerate}\n\\item \\begin{description}\n\\item[\\$id] 800\n\\item[\\$main] 'Clear'\n\\item[\\$description] 'clear sky'\n\\item[\\$icon] '01n'\n\\end{description}\n\n\\end{enumerate}\n\n\\item[\\$base] 'stations'\n\\item[\\$main] \\begin{description}\n\\item[\\$temp] 15.16\n\\item[\\$feels\\_like] 14.56\n\\item[\\$temp\\_min] 13.69\n\\item[\\$temp\\_max] 15.78\n\\item[\\$pressure] 1012\n\\item[\\$humidity] 70\n\\end{description}\n\n\\item[\\$visibility] 10000\n\\item[\\$wind] \\begin{description}\n\\item[\\$speed] 3.6\n\\item[\\$deg] 210\n\\end{description}\n\n\\item[\\$clouds] \\textbf{\\$all} = 0\n\\item[\\$dt] 1652709484\n\\item[\\$sys] \\begin{description}\n\\item[\\$type] 1\n\\item[\\$id] 8105\n\\item[\\$country] 'KR'\n\\item[\\$sunrise] 1652646148\n\\item[\\$sunset] 1652697277\n\\end{description}\n\n\\item[\\$timezone] 32400\n\\item[\\$id] 1835848\n\\item[\\$name] 'Seoul'\n\\item[\\$cod] 200\n\\end{description}\n",
                        "text/markdown": "$coord\n:   $lon\n:   126.9778\n$lat\n:   37.5683\n\n\n\n$weather\n:   1. $id\n:   800\n$main\n:   'Clear'\n$description\n:   'clear sky'\n$icon\n:   '01n'\n\n\n\n\n\n\n$base\n:   'stations'\n$main\n:   $temp\n:   15.16\n$feels_like\n:   14.56\n$temp_min\n:   13.69\n$temp_max\n:   15.78\n$pressure\n:   1012\n$humidity\n:   70\n\n\n\n$visibility\n:   10000\n$wind\n:   $speed\n:   3.6\n$deg\n:   210\n\n\n\n$clouds\n:   **$all** = 0\n$dt\n:   1652709484\n$sys\n:   $type\n:   1\n$id\n:   8105\n$country\n:   'KR'\n$sunrise\n:   1652646148\n$sunset\n:   1652697277\n\n\n\n$timezone\n:   32400\n$id\n:   1835848\n$name\n:   'Seoul'\n$cod\n:   200\n\n\n",
                        "text/plain": "$coord\n$coord$lon\n[1] 126.9778\n\n$coord$lat\n[1] 37.5683\n\n\n$weather\n$weather[[1]]\n$weather[[1]]$id\n[1] 800\n\n$weather[[1]]$main\n[1] \"Clear\"\n\n$weather[[1]]$description\n[1] \"clear sky\"\n\n$weather[[1]]$icon\n[1] \"01n\"\n\n\n\n$base\n[1] \"stations\"\n\n$main\n$main$temp\n[1] 15.16\n\n$main$feels_like\n[1] 14.56\n\n$main$temp_min\n[1] 13.69\n\n$main$temp_max\n[1] 15.78\n\n$main$pressure\n[1] 1012\n\n$main$humidity\n[1] 70\n\n\n$visibility\n[1] 10000\n\n$wind\n$wind$speed\n[1] 3.6\n\n$wind$deg\n[1] 210\n\n\n$clouds\n$clouds$all\n[1] 0\n\n\n$dt\n[1] 1652709484\n\n$sys\n$sys$type\n[1] 1\n\n$sys$id\n[1] 8105\n\n$sys$country\n[1] \"KR\"\n\n$sys$sunrise\n[1] 1652646148\n\n$sys$sunset\n[1] 1652697277\n\n\n$timezone\n[1] 32400\n\n$id\n[1] 1835848\n\n$name\n[1] \"Seoul\"\n\n$cod\n[1] 200\n"
                    },
                    "metadata": {},
                    "output_type": "display_data"
                }
            ],
            "source": "json_result"
        },
        {
            "cell_type": "markdown",
            "metadata": {},
            "source": "It contains very detailed weather data about the city of `Seoul`. Feel free to try other cities as well. We need to convert the named list to a data frame so that we can use data frame operations to process the data. Below is a simple example, which you may implement your own way to convert it to a data frame.\n"
        },
        {
            "cell_type": "code",
            "execution_count": 10,
            "metadata": {},
            "outputs": [],
            "source": "# Create some empty vectors to hold data temporarily\nweather <- c()\nvisibility <- c()\ntemp <- c()\ntemp_min <- c()\ntemp_max <- c()\npressure <- c()\nhumidity <- c()\nwind_speed <- c()\nwind_deg <- c()\n"
        },
        {
            "cell_type": "markdown",
            "metadata": {},
            "source": "Now assign the values in the `json_result` list into different vectors\n"
        },
        {
            "cell_type": "code",
            "execution_count": 11,
            "metadata": {},
            "outputs": [],
            "source": "# $weather is also a list with one element, its $main element indicates the weather status such as clear or rain\nweather <- c(weather, json_result$weather[[1]]$main)\n# Get Visibility\nvisibility <- c(visibility, json_result$visibility)\n# Get current temperature \ntemp <- c(temp, json_result$main$temp)\n# Get min temperature \ntemp_min <- c(temp_min, json_result$main$temp_min)\n# Get max temperature \ntemp_max <- c(temp_max, json_result$main$temp_max)\n# Get pressure\npressure <- c(pressure, json_result$main$pressure)\n# Get humidity\nhumidity <- c(humidity, json_result$main$humidity)\n# Get wind speed\nwind_speed <- c(wind_speed, json_result$wind$speed)\n# Get wind direction\nwind_deg <- c(wind_deg, json_result$wind$deg)\n"
        },
        {
            "cell_type": "markdown",
            "metadata": {},
            "source": "Combine all vectors as columns of a data frame\n"
        },
        {
            "cell_type": "code",
            "execution_count": 47,
            "metadata": {},
            "outputs": [],
            "source": "# Combine all vectors\nweather_data_frame <- data.frame(weather=weather, \n                                 visibility=visibility, \n                                 temp=temp, \n                                 temp_min=temp_min, \n                                 temp_max=temp_max, \n                                 pressure=pressure, \n                                 humidity=humidity, \n                                 wind_speed=wind_speed, \n                                 wind_deg=wind_deg)"
        },
        {
            "cell_type": "code",
            "execution_count": 48,
            "metadata": {},
            "outputs": [
                {
                    "name": "stdout",
                    "output_type": "stream",
                    "text": "    weather visibility  temp temp_min temp_max pressure humidity wind_speed\n1     Clear      10000 12.07    12.07    13.18     1012       78       1.47\n2     Clear      10000 16.16    16.16    18.49     1013       60       1.88\n3     Clear      10000 24.24    24.24    24.24     1012       29       3.63\n4     Clear      10000 25.57    25.57    25.57     1012       27       5.85\n5     Clear      10000 22.15    22.15    22.15     1012       39       5.47\n6     Clear      10000 18.34    18.34    18.34     1015       58       2.45\n7     Clear      10000 16.96    16.96    16.96     1015       63       1.75\n8     Clear      10000 15.78    15.78    15.78     1016       65       1.69\n9     Clear      10000 15.06    15.06    15.06     1016       65       1.84\n10   Clouds      10000 20.60    20.60    20.60     1016       39       3.96\n11   Clouds      10000 24.82    24.82    24.82     1015       31       6.74\n12   Clouds      10000 23.04    23.04    23.04     1014       37       6.01\n13   Clouds      10000 21.94    21.94    21.94     1013       41       6.78\n14   Clouds      10000 18.55    18.55    18.55     1015       54       4.84\n15    Clear      10000 16.61    16.61    16.61     1016       70       3.90\n16   Clouds      10000 15.05    15.05    15.05     1015       83       2.57\n17   Clouds      10000 14.50    14.50    14.50     1017       83       2.73\n18   Clouds      10000 17.71    17.71    17.71     1018       65       1.60\n19   Clouds      10000 22.48    22.48    22.48     1017       44       4.07\n20   Clouds      10000 23.26    23.26    23.26     1015       40       4.68\n21   Clouds      10000 19.91    19.91    19.91     1015       48       4.13\n22   Clouds      10000 17.82    17.82    17.82     1017       57       2.54\n23   Clouds      10000 16.98    16.98    16.98     1017       60       1.59\n24   Clouds      10000 16.01    16.01    16.01     1017       61       1.00\n25   Clouds      10000 15.54    15.54    15.54     1017       60       1.15\n26   Clouds      10000 20.09    20.09    20.09     1016       42       1.88\n27   Clouds      10000 23.85    23.85    23.85     1016       30       4.66\n28   Clouds      10000 24.93    24.93    24.93     1014       28       4.81\n29   Clouds      10000 23.16    23.16    23.16     1013       29       3.66\n30   Clouds      10000 20.00    20.00    20.00     1014       37       1.55\n31   Clouds      10000 18.59    18.59    18.59     1014       42       0.82\n32   Clouds      10000 16.97    16.97    16.97     1013       49       0.80\n33   Clouds      10000 16.60    16.60    16.60     1013       51       0.50\n34   Clouds      10000 21.54    21.54    21.54     1013       39       1.42\n35    Clear      10000 26.03    26.03    26.03     1012       26       4.47\n36    Clear      10000 26.07    26.07    26.07     1010       25       5.40\n37    Clear      10000 23.29    23.29    23.29     1010       33       4.48\n38    Clear      10000 20.02    20.02    20.02     1010       46       1.80\n39   Clouds      10000 18.23    18.23    18.23     1012       57       1.46\n40    Clear      10000 16.98    16.98    16.98     1011       64       1.03\n41    Clear      10000 12.07    12.07    13.18     1012       78       1.47\n42    Clear      10000 16.16    16.16    18.49     1013       60       1.88\n43    Clear      10000 24.24    24.24    24.24     1012       29       3.63\n44    Clear      10000 25.57    25.57    25.57     1012       27       5.85\n45    Clear      10000 22.15    22.15    22.15     1012       39       5.47\n46    Clear      10000 18.34    18.34    18.34     1015       58       2.45\n47    Clear      10000 16.96    16.96    16.96     1015       63       1.75\n48    Clear      10000 15.78    15.78    15.78     1016       65       1.69\n49    Clear      10000 15.06    15.06    15.06     1016       65       1.84\n50   Clouds      10000 20.60    20.60    20.60     1016       39       3.96\n51   Clouds      10000 24.82    24.82    24.82     1015       31       6.74\n52   Clouds      10000 23.04    23.04    23.04     1014       37       6.01\n53   Clouds      10000 21.94    21.94    21.94     1013       41       6.78\n54   Clouds      10000 18.55    18.55    18.55     1015       54       4.84\n55    Clear      10000 16.61    16.61    16.61     1016       70       3.90\n56   Clouds      10000 15.05    15.05    15.05     1015       83       2.57\n57   Clouds      10000 14.50    14.50    14.50     1017       83       2.73\n58   Clouds      10000 17.71    17.71    17.71     1018       65       1.60\n59   Clouds      10000 22.48    22.48    22.48     1017       44       4.07\n60   Clouds      10000 23.26    23.26    23.26     1015       40       4.68\n61   Clouds      10000 19.91    19.91    19.91     1015       48       4.13\n62   Clouds      10000 17.82    17.82    17.82     1017       57       2.54\n63   Clouds      10000 16.98    16.98    16.98     1017       60       1.59\n64   Clouds      10000 16.01    16.01    16.01     1017       61       1.00\n65   Clouds      10000 15.54    15.54    15.54     1017       60       1.15\n66   Clouds      10000 20.09    20.09    20.09     1016       42       1.88\n67   Clouds      10000 23.85    23.85    23.85     1016       30       4.66\n68   Clouds      10000 24.93    24.93    24.93     1014       28       4.81\n69   Clouds      10000 23.16    23.16    23.16     1013       29       3.66\n70   Clouds      10000 20.00    20.00    20.00     1014       37       1.55\n71   Clouds      10000 18.59    18.59    18.59     1014       42       0.82\n72   Clouds      10000 16.97    16.97    16.97     1013       49       0.80\n73   Clouds      10000 16.60    16.60    16.60     1013       51       0.50\n74   Clouds      10000 21.54    21.54    21.54     1013       39       1.42\n75    Clear      10000 26.03    26.03    26.03     1012       26       4.47\n76    Clear      10000 26.07    26.07    26.07     1010       25       5.40\n77    Clear      10000 23.29    23.29    23.29     1010       33       4.48\n78    Clear      10000 20.02    20.02    20.02     1010       46       1.80\n79   Clouds      10000 18.23    18.23    18.23     1012       57       1.46\n80    Clear      10000 16.98    16.98    16.98     1011       64       1.03\n81    Clear      10000 12.07    12.07    13.18     1012       78       1.47\n82    Clear      10000 16.16    16.16    18.49     1013       60       1.88\n83    Clear      10000 24.24    24.24    24.24     1012       29       3.63\n84    Clear      10000 25.57    25.57    25.57     1012       27       5.85\n85    Clear      10000 22.15    22.15    22.15     1012       39       5.47\n86    Clear      10000 18.34    18.34    18.34     1015       58       2.45\n87    Clear      10000 16.96    16.96    16.96     1015       63       1.75\n88    Clear      10000 15.78    15.78    15.78     1016       65       1.69\n89    Clear      10000 15.06    15.06    15.06     1016       65       1.84\n90   Clouds      10000 20.60    20.60    20.60     1016       39       3.96\n91   Clouds      10000 24.82    24.82    24.82     1015       31       6.74\n92   Clouds      10000 23.04    23.04    23.04     1014       37       6.01\n93   Clouds      10000 21.94    21.94    21.94     1013       41       6.78\n94   Clouds      10000 18.55    18.55    18.55     1015       54       4.84\n95    Clear      10000 16.61    16.61    16.61     1016       70       3.90\n96   Clouds      10000 15.05    15.05    15.05     1015       83       2.57\n97   Clouds      10000 14.50    14.50    14.50     1017       83       2.73\n98   Clouds      10000 17.71    17.71    17.71     1018       65       1.60\n99   Clouds      10000 22.48    22.48    22.48     1017       44       4.07\n100  Clouds      10000 23.26    23.26    23.26     1015       40       4.68\n101  Clouds      10000 19.91    19.91    19.91     1015       48       4.13\n102  Clouds      10000 17.82    17.82    17.82     1017       57       2.54\n103  Clouds      10000 16.98    16.98    16.98     1017       60       1.59\n104  Clouds      10000 16.01    16.01    16.01     1017       61       1.00\n105  Clouds      10000 15.54    15.54    15.54     1017       60       1.15\n106  Clouds      10000 20.09    20.09    20.09     1016       42       1.88\n107  Clouds      10000 23.85    23.85    23.85     1016       30       4.66\n108  Clouds      10000 24.93    24.93    24.93     1014       28       4.81\n109  Clouds      10000 23.16    23.16    23.16     1013       29       3.66\n110  Clouds      10000 20.00    20.00    20.00     1014       37       1.55\n111  Clouds      10000 18.59    18.59    18.59     1014       42       0.82\n112  Clouds      10000 16.97    16.97    16.97     1013       49       0.80\n113  Clouds      10000 16.60    16.60    16.60     1013       51       0.50\n114  Clouds      10000 21.54    21.54    21.54     1013       39       1.42\n115   Clear      10000 26.03    26.03    26.03     1012       26       4.47\n116   Clear      10000 26.07    26.07    26.07     1010       25       5.40\n117   Clear      10000 23.29    23.29    23.29     1010       33       4.48\n118   Clear      10000 20.02    20.02    20.02     1010       46       1.80\n119  Clouds      10000 18.23    18.23    18.23     1012       57       1.46\n120   Clear      10000 16.98    16.98    16.98     1011       64       1.03\n    wind_deg\n1        121\n2        137\n3        200\n4        227\n5        233\n6        225\n7        162\n8        140\n9        117\n10       178\n11       209\n12       209\n13       213\n14       214\n15       218\n16       207\n17       201\n18       217\n19       222\n20       242\n21       227\n22       209\n23       183\n24       176\n25       163\n26       207\n27       251\n28       264\n29       256\n30       260\n31       266\n32       287\n33       110\n34       260\n35       263\n36       266\n37       266\n38       242\n39       249\n40       224\n41       121\n42       137\n43       200\n44       227\n45       233\n46       225\n47       162\n48       140\n49       117\n50       178\n51       209\n52       209\n53       213\n54       214\n55       218\n56       207\n57       201\n58       217\n59       222\n60       242\n61       227\n62       209\n63       183\n64       176\n65       163\n66       207\n67       251\n68       264\n69       256\n70       260\n71       266\n72       287\n73       110\n74       260\n75       263\n76       266\n77       266\n78       242\n79       249\n80       224\n81       121\n82       137\n83       200\n84       227\n85       233\n86       225\n87       162\n88       140\n89       117\n90       178\n91       209\n92       209\n93       213\n94       214\n95       218\n96       207\n97       201\n98       217\n99       222\n100      242\n101      227\n102      209\n103      183\n104      176\n105      163\n106      207\n107      251\n108      264\n109      256\n110      260\n111      266\n112      287\n113      110\n114      260\n115      263\n116      266\n117      266\n118      242\n119      249\n120      224\n"
                }
            ],
            "source": "# Check the generated data frame\nprint(weather_data_frame)"
        },
        {
            "cell_type": "markdown",
            "metadata": {},
            "source": "# TASK:  Get 5-day weather forecasts for a list of cities using the OpenWeather API\n"
        },
        {
            "cell_type": "markdown",
            "metadata": {},
            "source": "Now you should be familiar with the usage of OpenWeather API. Next, you need to complete a task to get 5-day weather forecasts for a list of cities\n"
        },
        {
            "cell_type": "markdown",
            "metadata": {},
            "source": "*TODO:* Write a function to return a data frame containing 5-day weather forecasts for a list of cities\n"
        },
        {
            "cell_type": "code",
            "execution_count": 67,
            "metadata": {},
            "outputs": [],
            "source": "# Create some empty vectors to hold data temporarily\n\n# City name column\ncity <- c()\n# Weather column, rainy or cloudy, etc\nweather <- c()\n# Sky visibility column\nvisibility <- c()\n# Current temperature column\ntemp <- c()\n# Max temperature column\ntemp_min <- c()\n# Min temperature column\ntemp_max <- c()\n# Pressure column\npressure <- c()\n# Humidity column\nhumidity <- c()\n# Wind speed column\nwind_speed <- c()\n# Wind direction column\nwind_deg <- c()\n# Forecast timestamp\nforecast_datetime <- c()\n# Season column\n# Note that for season, you can hard code a season value from levels Spring, Summer, Autumn, and Winter based on your current month.\nseason <- c()\n"
        },
        {
            "cell_type": "code",
            "execution_count": 68,
            "metadata": {},
            "outputs": [],
            "source": "# Get forecast data for a given city list\nget_weather_forecaset_by_cities <- function(city_names){\n    for (city_name in city_names){\n        # Forecast API URL\n        forecast_url <- 'https://api.openweathermap.org/data/2.5/forecast'\n        # Create query parameters\n        forecast_query <- list(q = city_name, appid =your_api_key, units=\"metric\")\n        # Make HTTP GET call for the given city\n        response<-GET(forecast_url,query=forecast_query)\n        # Note that the 5-day forecast JSON result is a list of lists. You can print the reponse to check the results\n        results <- content(response,as=\"parsed\")\n        # Loop the json result\n        for(result in results$list) {\n                city <- c(city, city_name)\n                weather<-c(weather,result$weather[[1]]$main)\n                visibility<-c(visibility,result$visibility)\n                temp<-c(temp,result$main$temp)\n                temp_min<-c(temp_min,result$main$temp_min)\n                temp_max<-c(temp_max,result$main$temp_max)\n                pressure<-c(pressure,result$main$pressure)\n                humidity<-c(humidity,result$main$humidity)\n                wind_speed<-c(wind_speed,result$wind$speed)\n                wind_deg<-c(wind_deg,result$wind$deg)\n                forecast_datetime<-c(forecast_datetime,result$dt_txt)\n                season<-c(season,\"Spring\")\n        }\n        # Add the R Lists into a data frame\n    }\n    df<-data.frame(city=city,\n                    weather=weather,\n                    visibility=visibility,\n                    temp=temp,\n                    temp_min=temp_min,\n                    temp_max=temp_max,\n                    pressure=pressure,\n                    humidity=humidity,\n                    wind_speed=wind_speed,\n                    wind_deg=wind_deg,\n                    forecast_datetime=forecast_datetime,\n                    season=season) \n    # Return a data frame\n    return(df)\n    \n}\n"
        },
        {
            "cell_type": "markdown",
            "metadata": {},
            "source": "Complete and call `get_weather_forecaset_by_cities` function with a list of cities, and write the data frame into a csv file called `cities_weather_forecast.csv`\n"
        },
        {
            "cell_type": "code",
            "execution_count": 70,
            "metadata": {},
            "outputs": [
                {
                    "data": {
                        "text/html": "<table>\n<thead><tr><th></th><th scope=col>city</th><th scope=col>weather</th><th scope=col>visibility</th><th scope=col>temp</th><th scope=col>temp_min</th><th scope=col>temp_max</th><th scope=col>pressure</th><th scope=col>humidity</th><th scope=col>wind_speed</th><th scope=col>wind_deg</th><th scope=col>forecast_datetime</th><th scope=col>season</th></tr></thead>\n<tbody>\n\t<tr><th scope=row>155</th><td>Suzhou             </td><td>Clouds             </td><td>10000              </td><td>26.35              </td><td>26.35              </td><td>26.35              </td><td>1011               </td><td>44                 </td><td>3.19               </td><td>101                </td><td>2022-05-21 03:00:00</td><td>Spring             </td></tr>\n\t<tr><th scope=row>156</th><td>Suzhou             </td><td>Clouds             </td><td>10000              </td><td>28.50              </td><td>28.50              </td><td>28.50              </td><td>1009               </td><td>33                 </td><td>3.96               </td><td> 87                </td><td>2022-05-21 06:00:00</td><td>Spring             </td></tr>\n\t<tr><th scope=row>157</th><td>Suzhou             </td><td>Clouds             </td><td>10000              </td><td>26.58              </td><td>26.58              </td><td>26.58              </td><td>1009               </td><td>37                 </td><td>5.21               </td><td> 95                </td><td>2022-05-21 09:00:00</td><td>Spring             </td></tr>\n\t<tr><th scope=row>158</th><td>Suzhou             </td><td>Clouds             </td><td>10000              </td><td>21.65              </td><td>21.65              </td><td>21.65              </td><td>1010               </td><td>62                 </td><td>4.32               </td><td>120                </td><td>2022-05-21 12:00:00</td><td>Spring             </td></tr>\n\t<tr><th scope=row>159</th><td>Suzhou             </td><td>Clouds             </td><td>10000              </td><td>19.79              </td><td>19.79              </td><td>19.79              </td><td>1011               </td><td>72                 </td><td>2.99               </td><td>120                </td><td>2022-05-21 15:00:00</td><td>Spring             </td></tr>\n\t<tr><th scope=row>160</th><td>Suzhou             </td><td>Clouds             </td><td>10000              </td><td>18.41              </td><td>18.41              </td><td>18.41              </td><td>1010               </td><td>81                 </td><td>2.60               </td><td>120                </td><td>2022-05-21 18:00:00</td><td>Spring             </td></tr>\n</tbody>\n</table>\n",
                        "text/latex": "\\begin{tabular}{r|llllllllllll}\n  & city & weather & visibility & temp & temp\\_min & temp\\_max & pressure & humidity & wind\\_speed & wind\\_deg & forecast\\_datetime & season\\\\\n\\hline\n\t155 & Suzhou              & Clouds              & 10000               & 26.35               & 26.35               & 26.35               & 1011                & 44                  & 3.19                & 101                 & 2022-05-21 03:00:00 & Spring             \\\\\n\t156 & Suzhou              & Clouds              & 10000               & 28.50               & 28.50               & 28.50               & 1009                & 33                  & 3.96                &  87                 & 2022-05-21 06:00:00 & Spring             \\\\\n\t157 & Suzhou              & Clouds              & 10000               & 26.58               & 26.58               & 26.58               & 1009                & 37                  & 5.21                &  95                 & 2022-05-21 09:00:00 & Spring             \\\\\n\t158 & Suzhou              & Clouds              & 10000               & 21.65               & 21.65               & 21.65               & 1010                & 62                  & 4.32                & 120                 & 2022-05-21 12:00:00 & Spring             \\\\\n\t159 & Suzhou              & Clouds              & 10000               & 19.79               & 19.79               & 19.79               & 1011                & 72                  & 2.99                & 120                 & 2022-05-21 15:00:00 & Spring             \\\\\n\t160 & Suzhou              & Clouds              & 10000               & 18.41               & 18.41               & 18.41               & 1010                & 81                  & 2.60                & 120                 & 2022-05-21 18:00:00 & Spring             \\\\\n\\end{tabular}\n",
                        "text/markdown": "\n| <!--/--> | city | weather | visibility | temp | temp_min | temp_max | pressure | humidity | wind_speed | wind_deg | forecast_datetime | season |\n|---|---|---|---|---|---|---|---|---|---|---|---|---|\n| 155 | Suzhou              | Clouds              | 10000               | 26.35               | 26.35               | 26.35               | 1011                | 44                  | 3.19                | 101                 | 2022-05-21 03:00:00 | Spring              |\n| 156 | Suzhou              | Clouds              | 10000               | 28.50               | 28.50               | 28.50               | 1009                | 33                  | 3.96                |  87                 | 2022-05-21 06:00:00 | Spring              |\n| 157 | Suzhou              | Clouds              | 10000               | 26.58               | 26.58               | 26.58               | 1009                | 37                  | 5.21                |  95                 | 2022-05-21 09:00:00 | Spring              |\n| 158 | Suzhou              | Clouds              | 10000               | 21.65               | 21.65               | 21.65               | 1010                | 62                  | 4.32                | 120                 | 2022-05-21 12:00:00 | Spring              |\n| 159 | Suzhou              | Clouds              | 10000               | 19.79               | 19.79               | 19.79               | 1011                | 72                  | 2.99                | 120                 | 2022-05-21 15:00:00 | Spring              |\n| 160 | Suzhou              | Clouds              | 10000               | 18.41               | 18.41               | 18.41               | 1010                | 81                  | 2.60                | 120                 | 2022-05-21 18:00:00 | Spring              |\n\n",
                        "text/plain": "    city   weather visibility temp  temp_min temp_max pressure humidity\n155 Suzhou Clouds  10000      26.35 26.35    26.35    1011     44      \n156 Suzhou Clouds  10000      28.50 28.50    28.50    1009     33      \n157 Suzhou Clouds  10000      26.58 26.58    26.58    1009     37      \n158 Suzhou Clouds  10000      21.65 21.65    21.65    1010     62      \n159 Suzhou Clouds  10000      19.79 19.79    19.79    1011     72      \n160 Suzhou Clouds  10000      18.41 18.41    18.41    1010     81      \n    wind_speed wind_deg forecast_datetime   season\n155 3.19       101      2022-05-21 03:00:00 Spring\n156 3.96        87      2022-05-21 06:00:00 Spring\n157 5.21        95      2022-05-21 09:00:00 Spring\n158 4.32       120      2022-05-21 12:00:00 Spring\n159 2.99       120      2022-05-21 15:00:00 Spring\n160 2.60       120      2022-05-21 18:00:00 Spring"
                    },
                    "metadata": {},
                    "output_type": "display_data"
                }
            ],
            "source": "cities <- c(\"Seoul\", \"Washington, D.C.\", \"Paris\", \"Suzhou\")\ncities_weather_df <- get_weather_forecaset_by_cities(cities)\ntail(cities_weather_df)"
        },
        {
            "cell_type": "code",
            "execution_count": 71,
            "metadata": {},
            "outputs": [],
            "source": "# Write cities_weather_df to `cities_weather_forecast.csv`\nwrite.csv(cities_weather_df, \"cities_weather_forecast.csv\", row.names=FALSE)"
        },
        {
            "cell_type": "markdown",
            "metadata": {},
            "source": "For more details about HTTP requests with `httr`, please refer to the previous HTTP request notebook here:\n\n[HTTP request in R](https://cf-courses-data.s3.us.cloud-object-storage.appdomain.cloud/IBMDeveloperSkillsNetwork-RP0101EN-Coursera/v2/M4\\_Working_With_Data/lab2\\_jupyter_http-request.ipynb)\n"
        },
        {
            "cell_type": "markdown",
            "metadata": {},
            "source": "## TASK: Download datasets as csv files from cloud storage\n"
        },
        {
            "cell_type": "markdown",
            "metadata": {},
            "source": "The last task of this lab is straightforward: download some aggregated datasets from cloud storage\n"
        },
        {
            "cell_type": "code",
            "execution_count": null,
            "metadata": {},
            "outputs": [],
            "source": "# Download several datasets\n\n# Download some general city information such as name and locations\nurl <- \"https://cf-courses-data.s3.us.cloud-object-storage.appdomain.cloud/IBMDeveloperSkillsNetwork-RP0321EN-SkillsNetwork/labs/datasets/raw_worldcities.csv\"\n# download the file\ndownload.file(url, destfile = \"raw_worldcities.csv\")\n\n# Download a specific hourly Seoul bike sharing demand dataset\nurl <- \"https://cf-courses-data.s3.us.cloud-object-storage.appdomain.cloud/IBMDeveloperSkillsNetwork-RP0321EN-SkillsNetwork/labs/datasets/raw_seoul_bike_sharing.csv\"\n# download the file\ndownload.file(url, destfile = \"raw_seoul_bike_sharing.csv\")"
        },
        {
            "cell_type": "markdown",
            "metadata": {},
            "source": "## Next Step\n"
        },
        {
            "cell_type": "markdown",
            "metadata": {},
            "source": "Now you should collect all datasets required for this project, all in csv format. Feel free to explore them preliminarily now. However, they are the raw datasets and have to be processed for further data visualization or data analysis.\n\nIn the next module, you will improve their quality by performing data wrangling tasks.\n"
        },
        {
            "cell_type": "markdown",
            "metadata": {},
            "source": "## Authors\n\n<a href=\"https://www.linkedin.com/in/yan-luo-96288783/?utm_medium=Exinfluencer&utm_source=Exinfluencer&utm_content=000026UJ&utm_term=10006555&utm_id=NA-SkillsNetwork-Channel-SkillsNetworkCoursesIBMDeveloperSkillsNetworkRP0321ENSkillsNetwork25371262-2021-01-01\" target=\"_blank\">Yan Luo</a>\n"
        },
        {
            "cell_type": "markdown",
            "metadata": {},
            "source": "### Other Contributors\n"
        },
        {
            "cell_type": "markdown",
            "metadata": {},
            "source": "## Change Log\n\n| Date (YYYY-MM-DD) | Version | Changed By | Change Description      |\n| ----------------- | ------- | ---------- | ----------------------- |\n| 2021-04-05        | 0.1     | Yan        | Initial version created |\n|                   |         |            |                         |\n|                   |         |            |                         |\n\n## <h3 align=\"center\"> \u00a9 IBM Corporation 2021. All rights reserved. <h3/>\n"
        }
    ],
    "metadata": {
        "kernelspec": {
            "display_name": "R 3.6",
            "language": "R",
            "name": "r"
        },
        "language_info": {
            "codemirror_mode": "r",
            "file_extension": ".r",
            "mimetype": "text/x-r-source",
            "name": "R",
            "pygments_lexer": "r",
            "version": "3.6.1"
        }
    },
    "nbformat": 4,
    "nbformat_minor": 4
}