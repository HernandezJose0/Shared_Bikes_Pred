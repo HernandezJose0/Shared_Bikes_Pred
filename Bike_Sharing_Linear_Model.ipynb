{
    "cells": [
        {
            "cell_type": "markdown",
            "metadata": {},
            "source": "<a href=\"https://cognitiveclass.ai/?utm_medium=Exinfluencer&utm_source=Exinfluencer&utm_content=000026UJ&utm_term=10006555&utm_id=NA-SkillsNetwork-Channel-SkillsNetworkCoursesIBMDeveloperSkillsNetworkRP0321ENSkillsNetwork25371262-2021-01-01\">\n    <img src=\"https://cf-courses-data.s3.us.cloud-object-storage.appdomain.cloud/IBMDeveloperSkillsNetwork-RP0101EN-Coursera/v2/M1_R_Basics/images/IDSNlogo.png\" width=\"200\" align=\"center\">\n</a>\n"
        },
        {
            "cell_type": "markdown",
            "metadata": {},
            "source": "<h1>Predict Hourly Rented Bike Count using Basic Linear Regression Models</h1>\n\nEstimated time needed: **90** minutes\n"
        },
        {
            "cell_type": "markdown",
            "metadata": {},
            "source": "## Lab Overview:\n\nNow that you have performed exploratory analysis on the bike sharing demand dataset and obtained some insights on the attributes, it's time to build predictive models to predict the hourly rented bike count using related weather and date information.\n\nIn this lab, you will be asked to use `tidymodels` to build some baseline linear regression models:\n\n*   **TASK: Split data into training and testing datasets**\n*   **TASK: Build a linear regression model using only the weather variables**\n*   **TASK: Build a linear regression model using both weather and date variables**\n*   **TASK: Evaluate the models and identify important variables**\n\nLet's start!\n"
        },
        {
            "cell_type": "markdown",
            "metadata": {},
            "source": "First install and import the necessary libraries\n"
        },
        {
            "cell_type": "code",
            "execution_count": 1,
            "metadata": {},
            "outputs": [
                {
                    "name": "stderr",
                    "output_type": "stream",
                    "text": "Updating HTML index of packages in '.Library'\nMaking 'packages.html' ... done\nalso installing the dependencies \u2018listenv\u2019, \u2018parallelly\u2019, \u2018future\u2019, \u2018warp\u2019, \u2018lhs\u2019, \u2018glue\u2019, \u2018DiceDesign\u2019, \u2018lifecycle\u2019, \u2018vctrs\u2019, \u2018isoband\u2019, \u2018patchwork\u2019, \u2018generics\u2019, \u2018ipred\u2019, \u2018furrr\u2019, \u2018slider\u2019, \u2018pillar\u2019, \u2018cpp11\u2019, \u2018GPfit\u2019, \u2018tidyselect\u2019, \u2018pROC\u2019, \u2018broom\u2019, \u2018cli\u2019, \u2018conflicted\u2019, \u2018dials\u2019, \u2018dplyr\u2019, \u2018ggplot2\u2019, \u2018hardhat\u2019, \u2018infer\u2019, \u2018modeldata\u2019, \u2018parsnip\u2019, \u2018purrr\u2019, \u2018recipes\u2019, \u2018rsample\u2019, \u2018rstudioapi\u2019, \u2018tibble\u2019, \u2018tidyr\u2019, \u2018tune\u2019, \u2018workflows\u2019, \u2018workflowsets\u2019, \u2018yardstick\u2019\n\nUpdating HTML index of packages in '.Library'\nMaking 'packages.html' ... done\n"
                }
            ],
            "source": "# It may take several minutes to install those libraries in Watson Studio\ninstall.packages(\"rlang\")\ninstall.packages(\"tidymodels\")"
        },
        {
            "cell_type": "code",
            "execution_count": 2,
            "metadata": {},
            "outputs": [
                {
                    "name": "stderr",
                    "output_type": "stream",
                    "text": "\u2500\u2500 Attaching packages \u2500\u2500\u2500\u2500\u2500\u2500\u2500\u2500\u2500\u2500\u2500\u2500\u2500\u2500\u2500\u2500\u2500\u2500\u2500\u2500\u2500\u2500\u2500\u2500\u2500\u2500\u2500\u2500\u2500\u2500\u2500\u2500\u2500\u2500\u2500\u2500\u2500\u2500 tidymodels 0.2.0 \u2500\u2500\n\u2714 broom        0.8.0     \u2714 recipes      0.2.0\n\u2714 dials        0.1.1     \u2714 rsample      0.1.1\n\u2714 dplyr        1.0.9     \u2714 tibble       3.1.7\n\u2714 ggplot2      3.3.6     \u2714 tidyr        1.2.0\n\u2714 infer        1.0.0     \u2714 tune         0.2.0\n\u2714 modeldata    0.1.1     \u2714 workflows    0.2.6\n\u2714 parsnip      0.2.1     \u2714 workflowsets 0.2.1\n\u2714 purrr        0.3.4     \u2714 yardstick    0.0.9\n\u2500\u2500 Conflicts \u2500\u2500\u2500\u2500\u2500\u2500\u2500\u2500\u2500\u2500\u2500\u2500\u2500\u2500\u2500\u2500\u2500\u2500\u2500\u2500\u2500\u2500\u2500\u2500\u2500\u2500\u2500\u2500\u2500\u2500\u2500\u2500\u2500\u2500\u2500\u2500\u2500\u2500\u2500\u2500\u2500 tidymodels_conflicts() \u2500\u2500\n\u2716 purrr::discard() masks scales::discard()\n\u2716 dplyr::filter()  masks stats::filter()\n\u2716 dplyr::lag()     masks stats::lag()\n\u2716 recipes::step()  masks stats::step()\n\u2022 Learn how to get started at https://www.tidymodels.org/start/\nRegistered S3 method overwritten by 'rvest':\n  method            from\n  read_xml.response xml2\n\u2500\u2500 Attaching packages \u2500\u2500\u2500\u2500\u2500\u2500\u2500\u2500\u2500\u2500\u2500\u2500\u2500\u2500\u2500\u2500\u2500\u2500\u2500\u2500\u2500\u2500\u2500\u2500\u2500\u2500\u2500\u2500\u2500\u2500\u2500\u2500\u2500\u2500\u2500\u2500\u2500\u2500\u2500 tidyverse 1.2.1 \u2500\u2500\n\u2714 readr   1.3.1     \u2714 stringr 1.4.0\n\u2714 readr   1.3.1     \u2714 forcats 0.4.0\n\u2500\u2500 Conflicts \u2500\u2500\u2500\u2500\u2500\u2500\u2500\u2500\u2500\u2500\u2500\u2500\u2500\u2500\u2500\u2500\u2500\u2500\u2500\u2500\u2500\u2500\u2500\u2500\u2500\u2500\u2500\u2500\u2500\u2500\u2500\u2500\u2500\u2500\u2500\u2500\u2500\u2500\u2500\u2500\u2500\u2500 tidyverse_conflicts() \u2500\u2500\n\u2716 readr::col_factor() masks scales::col_factor()\n\u2716 purrr::discard()    masks scales::discard()\n\u2716 dplyr::filter()     masks stats::filter()\n\u2716 stringr::fixed()    masks recipes::fixed()\n\u2716 dplyr::lag()        masks stats::lag()\n\u2716 readr::spec()       masks yardstick::spec()\n"
                }
            ],
            "source": "library(\"tidymodels\")\nlibrary(\"tidyverse\")\nlibrary(\"stringr\")"
        },
        {
            "cell_type": "markdown",
            "metadata": {},
            "source": "The `seoul_bike_sharing_converted_normalized.csv` will be our main dataset which has following variables:\n\nThe response variable:\n\n*   `RENTED BIKE COUNT`- Count of bikes rented at each hour\n\nWeather predictor variables:\n\n*   `TEMPERATURE` - Temperature in Celsius\n*   `HUMIDITY` - Unit is `%`\n*   `WIND_SPEED` - Unit is `m/s`\n*   `VISIBILITY` - Multiplied by 10m\n*   `DEW_POINT_TEMPERATURE` - The temperature to which the air would have to cool down in order to reach saturation, unit is Celsius\n*   `SOLAR_RADIATION` - MJ/m2\n*   `RAINFALL` - mm\n*   `SNOWFALL` - cm\n\nDate/time predictor variables:\n\n*   `DATE` - Year-month-day\n*   `HOUR`- Hour of he day\n*   `FUNCTIONAL DAY` - NoFunc(Non Functional Hours), Fun(Functional hours)\n*   `HOLIDAY` - Holiday/No holiday\n*   `SEASONS` - Winter, Spring, Summer, Autumn\n"
        },
        {
            "cell_type": "markdown",
            "metadata": {},
            "source": "Let's read the dataset as a dataframe first:\n"
        },
        {
            "cell_type": "code",
            "execution_count": 3,
            "metadata": {},
            "outputs": [
                {
                    "name": "stderr",
                    "output_type": "stream",
                    "text": "Parsed with column specification:\ncols(\n  .default = col_double(),\n  DATE = col_character(),\n  FUNCTIONING_DAY = col_character()\n)\nSee spec(...) for full column specifications.\n"
                },
                {
                    "data": {
                        "text/plain": "cols(\n  DATE = col_character(),\n  RENTED_BIKE_COUNT = col_double(),\n  TEMPERATURE = col_double(),\n  HUMIDITY = col_double(),\n  WIND_SPEED = col_double(),\n  VISIBILITY = col_double(),\n  DEW_POINT_TEMPERATURE = col_double(),\n  SOLAR_RADIATION = col_double(),\n  RAINFALL = col_double(),\n  SNOWFALL = col_double(),\n  FUNCTIONING_DAY = col_character(),\n  `0` = col_double(),\n  `1` = col_double(),\n  `10` = col_double(),\n  `11` = col_double(),\n  `12` = col_double(),\n  `13` = col_double(),\n  `14` = col_double(),\n  `15` = col_double(),\n  `16` = col_double(),\n  `17` = col_double(),\n  `18` = col_double(),\n  `19` = col_double(),\n  `2` = col_double(),\n  `20` = col_double(),\n  `21` = col_double(),\n  `22` = col_double(),\n  `23` = col_double(),\n  `3` = col_double(),\n  `4` = col_double(),\n  `5` = col_double(),\n  `6` = col_double(),\n  `7` = col_double(),\n  `8` = col_double(),\n  `9` = col_double(),\n  AUTUMN = col_double(),\n  SPRING = col_double(),\n  SUMMER = col_double(),\n  WINTER = col_double(),\n  HOLIDAY = col_double(),\n  NO_HOLIDAY = col_double()\n)"
                    },
                    "metadata": {},
                    "output_type": "display_data"
                }
            ],
            "source": "# Dataset URL\ndataset_url <- \"https://cf-courses-data.s3.us.cloud-object-storage.appdomain.cloud/IBMDeveloperSkillsNetwork-RP0321EN-SkillsNetwork/labs/datasets/seoul_bike_sharing_converted_normalized.csv\"\nbike_sharing_df <- read_csv(dataset_url)\nspec(bike_sharing_df)"
        },
        {
            "cell_type": "markdown",
            "metadata": {},
            "source": "We won't be using the `DATE` column, because 'as is', it basically acts like an data entry index. (However, given more time, we could use the `DATE` colum to create a 'day of week' or 'isWeekend' column, which we might expect has an affect on preferred bike rental times.) We also do not need the `FUNCTIONAL DAY` column because it only has one distinct value remaining (`YES`) after missing value processing.\n"
        },
        {
            "cell_type": "code",
            "execution_count": 4,
            "metadata": {},
            "outputs": [],
            "source": "bike_sharing_df <- bike_sharing_df %>% \n                   select(-DATE, -FUNCTIONING_DAY)"
        },
        {
            "cell_type": "markdown",
            "metadata": {},
            "source": "# TASK: Split training and testing data\n"
        },
        {
            "cell_type": "markdown",
            "metadata": {},
            "source": "First, we need to split the full dataset into training and testing datasets.\n\nThe training dataset will be used for fitting regression models, and the testing dataset will be used to evaluate the trained models.\n"
        },
        {
            "cell_type": "markdown",
            "metadata": {},
            "source": "*TODO:* Use the `initial_split()`, `training()`, and `testing()` functions to generate a training dataset consisting of 75% of the original dataset, and a testing dataset using the remaining 25%.\n"
        },
        {
            "cell_type": "code",
            "execution_count": 6,
            "metadata": {},
            "outputs": [],
            "source": "# Use the `initial_split()`, `training()`, and `testing()` functions to split the dataset\n# With seed 1234\nset.seed(1234)\ndata_split<-initial_split(bike_sharing_df,prop = 3/4)\n# train_data \ntrain_data<-training(data_split)\n# test_data\ntest_data<-testing(data_split)"
        },
        {
            "cell_type": "markdown",
            "metadata": {},
            "source": "# TASK: Build a linear regression model using weather variables only\n"
        },
        {
            "cell_type": "markdown",
            "metadata": {},
            "source": "As you could imagine, weather conditions may affect people's bike renting decisions. For example, on a cold and rainy day, you may choose alternate transportation such as a bus or taxi.  While on a nice sunny day, you may want to rent a bike for a short-distance travel.\n"
        },
        {
            "cell_type": "markdown",
            "metadata": {},
            "source": "Thus, can we predict a city's bike-sharing demand based on its local weather information? Let's try to build a regression model to do that.\n"
        },
        {
            "cell_type": "markdown",
            "metadata": {},
            "source": "*TODO:* Build a linear regression model called `lm_model_weather` using the following variables:\n\n*   `TEMPERATURE` - Temperature in Celsius\n*   `HUMIDITY` - Unit is `%`\n*   `WIND_SPEED` - Unit is `m/s`\n*   `VISIBILITY` - Multiplied by 10m\n*   `DEW_POINT_TEMPERATURE` - The temperature to which the air would have to cool down in order to reach saturation, unit is Celsius\n*   `SOLAR_RADIATION` - MJ/m2\n*   `RAINFALL` - mm\n*   `SNOWFALL` - cm\n"
        },
        {
            "cell_type": "markdown",
            "metadata": {},
            "source": "Define a linear regression model specification.\n"
        },
        {
            "cell_type": "code",
            "execution_count": 10,
            "metadata": {},
            "outputs": [
                {
                    "data": {
                        "text/plain": "Linear Regression Model Specification (regression)\n\nComputational engine: lm \n"
                    },
                    "metadata": {},
                    "output_type": "display_data"
                }
            ],
            "source": "# Use `linear_reg()` with engine `lm` and mode `regression`\nlm_model_weather<-linear_reg(engine = 'lm',mode = 'regression')\nlm_model_weather"
        },
        {
            "cell_type": "markdown",
            "metadata": {},
            "source": "Fit a model with the response variable `RENTED_BIKE_COUNT` and predictor variables `TEMPERATURE + HUMIDITY + WIND_SPEED + VISIBILITY + DEW_POINT_TEMPERATURE + SOLAR_RADIATION + RAINFALL + SNOWFALL`\n"
        },
        {
            "cell_type": "code",
            "execution_count": 17,
            "metadata": {},
            "outputs": [],
            "source": "# Fit the model called `lm_model_weather`\n# RENTED_BIKE_COUNT ~ TEMPERATURE + HUMIDITY + WIND_SPEED + VISIBILITY + DEW_POINT_TEMPERATURE + SOLAR_RADIATION + RAINFALL + SNOWFALL,  with the training data\nlm_model_weather<-lm_model_weather%>%fit(RENTED_BIKE_COUNT ~ TEMPERATURE + HUMIDITY + WIND_SPEED + VISIBILITY + DEW_POINT_TEMPERATURE + SOLAR_RADIATION + RAINFALL + SNOWFALL, data=train_data)"
        },
        {
            "cell_type": "markdown",
            "metadata": {},
            "source": "Print the fit summary for the `lm_model_weather` model.\n"
        },
        {
            "cell_type": "code",
            "execution_count": 18,
            "metadata": {},
            "outputs": [
                {
                    "name": "stdout",
                    "output_type": "stream",
                    "text": "\nCall:\nstats::lm(formula = RENTED_BIKE_COUNT ~ TEMPERATURE + HUMIDITY + \n    WIND_SPEED + VISIBILITY + DEW_POINT_TEMPERATURE + SOLAR_RADIATION + \n    RAINFALL + SNOWFALL, data = data)\n\nCoefficients:\n          (Intercept)            TEMPERATURE               HUMIDITY  \n               156.71                2399.74                -918.38  \n           WIND_SPEED             VISIBILITY  DEW_POINT_TEMPERATURE  \n               404.47                  12.56                -316.92  \n      SOLAR_RADIATION               RAINFALL               SNOWFALL  \n              -444.85               -1764.01                 317.78  \n\n"
                }
            ],
            "source": "print(lm_model_weather$fit)"
        },
        {
            "cell_type": "markdown",
            "metadata": {},
            "source": "You should see the model details such as formula, residuals, and coefficients.\n"
        },
        {
            "cell_type": "markdown",
            "metadata": {},
            "source": "# TASK: Build a linear regression model using all variables\n"
        },
        {
            "cell_type": "markdown",
            "metadata": {},
            "source": "In addition to weather, there could be other factors that may affect bike rental demand, such as the time of a day or if today is a holiday or not.\n"
        },
        {
            "cell_type": "markdown",
            "metadata": {},
            "source": "Next, let's build a linear regression model using all variables (weather + date/time) in this task.\n"
        },
        {
            "cell_type": "markdown",
            "metadata": {},
            "source": "*TODO:* Build a linear regression model called `lm_model_all` using all variables `RENTED_BIKE_COUNT ~ .`\n"
        },
        {
            "cell_type": "code",
            "execution_count": 19,
            "metadata": {},
            "outputs": [],
            "source": "# Fit the model called `lm_model_all`\n# `RENTED_BIKE_COUNT ~ .` means use all other variables except for the response variable\nlm_model_all<-linear_reg(mode = 'regression',engine = 'lm')\nlm_model_all<- lm_model_all%>% fit(RENTED_BIKE_COUNT ~ .,data=train_data)"
        },
        {
            "cell_type": "markdown",
            "metadata": {},
            "source": "Print the fit summary for `lm_model_all`.\n"
        },
        {
            "cell_type": "code",
            "execution_count": 66,
            "metadata": {},
            "outputs": [
                {
                    "data": {
                        "text/plain": "\nCall:\nstats::lm(formula = RENTED_BIKE_COUNT ~ ., data = data)\n\nResiduals:\n     Min       1Q   Median       3Q      Max \n-1401.45  -218.96    -7.31   199.53  1780.67 \n\nCoefficients: (3 not defined because of singularities)\n                      Estimate Std. Error t value Pr(>|t|)    \nRAINFALL               2064.64      51.04  40.453  < 2e-16 ***\nHUMIDITY                886.73     212.13   4.180 2.95e-05 ***\n`18`                    794.80      99.49   7.989 1.61e-15 ***\nTEMPERATURE             782.66      40.27  19.433  < 2e-16 ***\nDEW_POINT_TEMPERATURE   598.39      20.26  29.532  < 2e-16 ***\n`19`                    522.99     221.37   2.363 0.018181 *  \n`8`                     450.98      41.47  10.876  < 2e-16 ***\n`21`                    446.58     143.28   3.117 0.001836 ** \n`20`                    432.00     103.50   4.174 3.03e-05 ***\n`4`                     386.29      34.26  11.275  < 2e-16 ***\n`5`                     362.72      33.72  10.757  < 2e-16 ***\nAUTUMN                  359.00      32.74  10.966  < 2e-16 ***\n`22`                    342.64      33.85  10.124  < 2e-16 ***\n`3`                     319.87      34.39   9.303  < 2e-16 ***\n`17`                    305.55      35.04   8.721  < 2e-16 ***\nSOLAR_RADIATION         276.88      34.44   8.040 1.07e-15 ***\nSNOWFALL                260.97      34.40   7.587 3.74e-14 ***\n`11`                    247.38      34.00   7.275 3.88e-13 ***\n`10`                    237.52      34.15   6.955 3.89e-12 ***\n`2`                     237.21      34.02   6.973 3.42e-12 ***\n(Intercept)             212.20      34.25   6.195 6.21e-10 ***\n`12`                    208.34      33.74   6.175 7.04e-10 ***\n`6`                     204.12      34.13   5.980 2.35e-09 ***\nSUMMER                  198.14      34.09   5.812 6.47e-09 ***\n`14`                    192.44      33.85   5.685 1.36e-08 ***\nSPRING                  191.37      33.85   5.653 1.65e-08 ***\n`13`                    191.35      34.23   5.591 2.35e-08 ***\nHOLIDAY                 124.42      34.00   3.659 0.000255 ***\n`1`                     116.85      33.48   3.490 0.000486 ***\n`15`                    109.73      33.59   3.267 0.001095 ** \n`7`                     106.76      33.58   3.179 0.001486 ** \n`23`                    103.81      32.62   3.182 0.001470 ** \n`0`                      29.30      20.29   1.444 0.148786    \n`16`                     23.13      19.36   1.195 0.232316    \nVISIBILITY               21.87      29.19   0.749 0.453669    \nNA                          NA      22.95      NA       NA    \n---\nSignif. codes:  0 \u2018***\u2019 0.001 \u2018**\u2019 0.01 \u2018*\u2019 0.05 \u2018.\u2019 0.1 \u2018 \u2019 1\n\nResidual standard error: 377.9 on 6312 degrees of freedom\nMultiple R-squared:  0.6589,\tAdjusted R-squared:  0.657 \nF-statistic: 348.4 on 35 and 6312 DF,  p-value: < 2.2e-16\n"
                    },
                    "metadata": {},
                    "output_type": "display_data"
                }
            ],
            "source": "summary(lm_model_all$fit)"
        },
        {
            "cell_type": "markdown",
            "metadata": {},
            "source": "Now you have built two basic linear regression models with different predictor variables, let's evaluate which model has better performance,\n"
        },
        {
            "cell_type": "markdown",
            "metadata": {},
            "source": "# TASK: Model evaluation and identification of important variables\n"
        },
        {
            "cell_type": "markdown",
            "metadata": {},
            "source": "Now that you have built two regression models, `lm_model_weather` and `lm_model_all`, with different predictor variables, you need to compare their performance to see which one is better.\n"
        },
        {
            "cell_type": "markdown",
            "metadata": {},
            "source": "In this project, you will be asked to use very important metrics that are often used in Statistics to determine the performance of a model:\n\n1.  R^2 / R-squared\n2.  Root Mean Squared Error (RMSE)\n\n**R-squared**\n\n<p>R squared, also known as the coefficient of determination, is a measure to indicate how close the data is to the fitted regression line. The value of R-squared is the percentage of variation of the response variable (y) that is explained by a linear model.</p>\n\n**Root Mean Squared Error (RMSE)**\n$$\nRMSE = \\sqrt{MSE}\n$$\n\nAs you know, the Mean Squared Error measures the average of the squares of errors, where 'error' is the difference between the actual value ($y$) and the estimated value ($\u0177$).\nAnother metric that is related to MSE is **Root Mean Squared Error (RMSE)** and is simply the square root of MSE.\n"
        },
        {
            "cell_type": "markdown",
            "metadata": {},
            "source": "We first need to test the `lm_model_weather` and `lm_model_all` models against the test dataset `test_data`, and generate `RENTED_BIKE_COUNT` prediction results.\n"
        },
        {
            "cell_type": "markdown",
            "metadata": {},
            "source": "*TODO:* Make predictions on the testing dataset using both `lm_model_weather` and `lm_model_all` models\n"
        },
        {
            "cell_type": "code",
            "execution_count": 23,
            "metadata": {},
            "outputs": [
                {
                    "name": "stderr",
                    "output_type": "stream",
                    "text": "Warning message in predict.lm(object = object$fit, newdata = new_data, type = \"response\"):\n\u201cprediction from a rank-deficient fit may be misleading\u201d"
                },
                {
                    "name": "stdout",
                    "output_type": "stream",
                    "text": "# A tibble: 2,117 \u00d7 2\n    .pred truth\n    <dbl> <dbl>\n 1 318.     100\n 2 321.     181\n 3 593.     360\n 4 351.     555\n 5 139.     600\n 6  17.1    405\n 7 -69.1    328\n 8  -8.36   167\n 9 518.     479\n10 551.     359\n# \u2026 with 2,107 more rows\n# A tibble: 2,117 \u00d7 2\n    .pred truth\n    <dbl> <dbl>\n 1 -178.    100\n 2  -13.0   181\n 3  220.    360\n 4  532.    555\n 5  592.    600\n 6  460.    405\n 7  -90.4   328\n 8 -370.    167\n 9  281.    479\n10  781.    359\n# \u2026 with 2,107 more rows\n"
                }
            ],
            "source": "# Use predict() function to generate test results for `lm_model_weather` and `lm_model_all`\npred1<-predict(lm_model_weather,new_data =test_data)\npred2<-predict(lm_model_all,new_data = test_data)\n# and generate two test results dataframe with a truth column:\ntest_results_weather<-pred1%>%mutate(truth=test_data$RENTED_BIKE_COUNT)\ntest_results_all<-pred2%>%mutate(truth=test_data$RENTED_BIKE_COUNT)\n# test_results_weather for lm_model_weather model\nprint(test_results_weather)\n# test_results_all for lm_model_all\nprint(test_results_all)"
        },
        {
            "cell_type": "markdown",
            "metadata": {},
            "source": "NOTE: if you happen to see a warning like : `prediction from a rank-deficient fit may be misleading`, it may be casued by collinearity in the predictor variables. Collinearity means that one predictor variable can be predicted from other predictor variables to some degree. For example, `RAINFALL` could be predicted by `HUMIDITY`.\n\nBut dont worry, you will address `glmnet` models (Lasso and Elastic-Net Regularized Generalized Linear Models) instead of regular `regression` models to solve this issue and futher improve the model performance.\n"
        },
        {
            "cell_type": "markdown",
            "metadata": {},
            "source": "Next, let's calculate and print the R-squared and RMSE for the two test results\n"
        },
        {
            "cell_type": "markdown",
            "metadata": {},
            "source": "*TODO:* Use `rsq()` and `rmse()` functions to calculate R-squared and RMSE metrics for the two test results\n"
        },
        {
            "cell_type": "code",
            "execution_count": 33,
            "metadata": {},
            "outputs": [
                {
                    "name": "stdout",
                    "output_type": "stream",
                    "text": "[1] \"Weather model rsq=  rsq  rmse=  rmse\"                          \n[2] \"Weather model rsq=  standard  rmse=  standard\"                 \n[3] \"Weather model rsq=  0.438866044328483  rmse=  474.624732062629\"\n[1] \"All model rsq=  rsq  rmse=  rmse\"                          \n[2] \"All model rsq=  standard  rmse=  standard\"                 \n[3] \"All model rsq=  0.669020432541914  rmse=  364.423502923441\"\n"
                }
            ],
            "source": "rsq_weather <- rsq(test_results_weather,truth=truth,estimate = .pred)\nrsq_all <- rsq(test_results_all,truth = truth,estimate = .pred)\nrmse_weather <- rmse(test_results_weather,truth=truth,estimate = .pred)\nrmse_all <- rmse(test_results_all,truth = truth,estimate = .pred)\nprint(paste(\"Weather model rsq= \",rsq_weather,\" rmse= \",rmse_weather))\nprint(paste(\"All model rsq= \",rsq_all,\" rmse= \",rmse_all))"
        },
        {
            "cell_type": "markdown",
            "metadata": {},
            "source": "From these tables, you should find that the test results from `lm_model_all` are much better. It means that using both weather and datetime variables in the model generates better prediction results.\n"
        },
        {
            "cell_type": "markdown",
            "metadata": {},
            "source": "Since `lm_model_all` has many predictor variables, let's check which predictor variables have larger coefficients. Variables with larger coefficients in the model means they attribute more in the prediction of `RENTED_BIKE_COUNT`. In addition, since all predictor variables are normalized to the same scale, 0 to 1, we thus can compare their coefficients directly.\n"
        },
        {
            "cell_type": "markdown",
            "metadata": {},
            "source": "You could try building another regression model using the non-normalized `seoul_bike_sharing_converted.csv` dataset, and you would find that the coefficients are much different.\n"
        },
        {
            "cell_type": "markdown",
            "metadata": {},
            "source": "First let's print all coefficients:\n"
        },
        {
            "cell_type": "code",
            "execution_count": 25,
            "metadata": {},
            "outputs": [
                {
                    "data": {
                        "text/html": "<dl class=dl-horizontal>\n\t<dt>(Intercept)</dt>\n\t\t<dd>212.199462743954</dd>\n\t<dt>TEMPERATURE</dt>\n\t\t<dd>782.657870088692</dd>\n\t<dt>HUMIDITY</dt>\n\t\t<dd>-886.73027784441</dd>\n\t<dt>WIND_SPEED</dt>\n\t\t<dd>31.9129927279246</dd>\n\t<dt>VISIBILITY</dt>\n\t\t<dd>21.8716449661126</dd>\n\t<dt>DEW_POINT_TEMPERATURE</dt>\n\t\t<dd>598.387261041619</dd>\n\t<dt>SOLAR_RADIATION</dt>\n\t\t<dd>276.881652368234</dd>\n\t<dt>RAINFALL</dt>\n\t\t<dd>-2064.63754308304</dd>\n\t<dt>SNOWFALL</dt>\n\t\t<dd>260.973302878596</dd>\n\t<dt>`0`</dt>\n\t\t<dd>-29.2983361016137</dd>\n\t<dt>`1`</dt>\n\t\t<dd>-116.846747038285</dd>\n\t<dt>`10`</dt>\n\t\t<dd>-237.51820120511</dd>\n\t<dt>`11`</dt>\n\t\t<dd>-247.38341321939</dd>\n\t<dt>`12`</dt>\n\t\t<dd>-208.341330868407</dd>\n\t<dt>`13`</dt>\n\t\t<dd>-191.354228014138</dd>\n\t<dt>`14`</dt>\n\t\t<dd>-192.441682312028</dd>\n\t<dt>`15`</dt>\n\t\t<dd>-109.733640240686</dd>\n\t<dt>`16`</dt>\n\t\t<dd>23.128163602844</dd>\n\t<dt>`17`</dt>\n\t\t<dd>305.547618249471</dd>\n\t<dt>`18`</dt>\n\t\t<dd>794.803151569959</dd>\n\t<dt>`19`</dt>\n\t\t<dd>522.988214834461</dd>\n\t<dt>`2`</dt>\n\t\t<dd>-237.211663999792</dd>\n\t<dt>`20`</dt>\n\t\t<dd>431.99523757542</dd>\n\t<dt>`21`</dt>\n\t\t<dd>446.580533576852</dd>\n\t<dt>`22`</dt>\n\t\t<dd>342.64091922177</dd>\n\t<dt>`23`</dt>\n\t\t<dd>103.808410131075</dd>\n\t<dt>`3`</dt>\n\t\t<dd>-319.871517124491</dd>\n\t<dt>`4`</dt>\n\t\t<dd>-386.292807947984</dd>\n\t<dt>`5`</dt>\n\t\t<dd>-362.720001875814</dd>\n\t<dt>`6`</dt>\n\t\t<dd>-204.118732579813</dd>\n\t<dt>`7`</dt>\n\t\t<dd>106.757133838754</dd>\n\t<dt>`8`</dt>\n\t\t<dd>450.977534093274</dd>\n\t<dt>`9`</dt>\n\t\t<dd>&lt;NA&gt;</dd>\n\t<dt>AUTUMN</dt>\n\t\t<dd>358.999443905867</dd>\n\t<dt>SPRING</dt>\n\t\t<dd>191.365267451116</dd>\n\t<dt>SUMMER</dt>\n\t\t<dd>198.142010192369</dd>\n\t<dt>WINTER</dt>\n\t\t<dd>&lt;NA&gt;</dd>\n\t<dt>HOLIDAY</dt>\n\t\t<dd>-124.423741444013</dd>\n\t<dt>NO_HOLIDAY</dt>\n\t\t<dd>&lt;NA&gt;</dd>\n</dl>\n",
                        "text/latex": "\\begin{description*}\n\\item[(Intercept)] 212.199462743954\n\\item[TEMPERATURE] 782.657870088692\n\\item[HUMIDITY] -886.73027784441\n\\item[WIND\\textbackslash{}\\_SPEED] 31.9129927279246\n\\item[VISIBILITY] 21.8716449661126\n\\item[DEW\\textbackslash{}\\_POINT\\textbackslash{}\\_TEMPERATURE] 598.387261041619\n\\item[SOLAR\\textbackslash{}\\_RADIATION] 276.881652368234\n\\item[RAINFALL] -2064.63754308304\n\\item[SNOWFALL] 260.973302878596\n\\item[`0`] -29.2983361016137\n\\item[`1`] -116.846747038285\n\\item[`10`] -237.51820120511\n\\item[`11`] -247.38341321939\n\\item[`12`] -208.341330868407\n\\item[`13`] -191.354228014138\n\\item[`14`] -192.441682312028\n\\item[`15`] -109.733640240686\n\\item[`16`] 23.128163602844\n\\item[`17`] 305.547618249471\n\\item[`18`] 794.803151569959\n\\item[`19`] 522.988214834461\n\\item[`2`] -237.211663999792\n\\item[`20`] 431.99523757542\n\\item[`21`] 446.580533576852\n\\item[`22`] 342.64091922177\n\\item[`23`] 103.808410131075\n\\item[`3`] -319.871517124491\n\\item[`4`] -386.292807947984\n\\item[`5`] -362.720001875814\n\\item[`6`] -204.118732579813\n\\item[`7`] 106.757133838754\n\\item[`8`] 450.977534093274\n\\item[`9`] <NA>\n\\item[AUTUMN] 358.999443905867\n\\item[SPRING] 191.365267451116\n\\item[SUMMER] 198.142010192369\n\\item[WINTER] <NA>\n\\item[HOLIDAY] -124.423741444013\n\\item[NO\\textbackslash{}\\_HOLIDAY] <NA>\n\\end{description*}\n",
                        "text/markdown": "(Intercept)\n:   212.199462743954TEMPERATURE\n:   782.657870088692HUMIDITY\n:   -886.73027784441WIND_SPEED\n:   31.9129927279246VISIBILITY\n:   21.8716449661126DEW_POINT_TEMPERATURE\n:   598.387261041619SOLAR_RADIATION\n:   276.881652368234RAINFALL\n:   -2064.63754308304SNOWFALL\n:   260.973302878596`0`\n:   -29.2983361016137`1`\n:   -116.846747038285`10`\n:   -237.51820120511`11`\n:   -247.38341321939`12`\n:   -208.341330868407`13`\n:   -191.354228014138`14`\n:   -192.441682312028`15`\n:   -109.733640240686`16`\n:   23.128163602844`17`\n:   305.547618249471`18`\n:   794.803151569959`19`\n:   522.988214834461`2`\n:   -237.211663999792`20`\n:   431.99523757542`21`\n:   446.580533576852`22`\n:   342.64091922177`23`\n:   103.808410131075`3`\n:   -319.871517124491`4`\n:   -386.292807947984`5`\n:   -362.720001875814`6`\n:   -204.118732579813`7`\n:   106.757133838754`8`\n:   450.977534093274`9`\n:   &lt;NA&gt;AUTUMN\n:   358.999443905867SPRING\n:   191.365267451116SUMMER\n:   198.142010192369WINTER\n:   &lt;NA&gt;HOLIDAY\n:   -124.423741444013NO_HOLIDAY\n:   &lt;NA&gt;\n\n",
                        "text/plain": "          (Intercept)           TEMPERATURE              HUMIDITY \n            212.19946             782.65787            -886.73028 \n           WIND_SPEED            VISIBILITY DEW_POINT_TEMPERATURE \n             31.91299              21.87164             598.38726 \n      SOLAR_RADIATION              RAINFALL              SNOWFALL \n            276.88165           -2064.63754             260.97330 \n                  `0`                   `1`                  `10` \n            -29.29834            -116.84675            -237.51820 \n                 `11`                  `12`                  `13` \n           -247.38341            -208.34133            -191.35423 \n                 `14`                  `15`                  `16` \n           -192.44168            -109.73364              23.12816 \n                 `17`                  `18`                  `19` \n            305.54762             794.80315             522.98821 \n                  `2`                  `20`                  `21` \n           -237.21166             431.99524             446.58053 \n                 `22`                  `23`                   `3` \n            342.64092             103.80841            -319.87152 \n                  `4`                   `5`                   `6` \n           -386.29281            -362.72000            -204.11873 \n                  `7`                   `8`                   `9` \n            106.75713             450.97753                    NA \n               AUTUMN                SPRING                SUMMER \n            358.99944             191.36527             198.14201 \n               WINTER               HOLIDAY            NO_HOLIDAY \n                   NA            -124.42374                    NA "
                    },
                    "metadata": {},
                    "output_type": "display_data"
                }
            ],
            "source": "lm_model_all$fit$coefficients"
        },
        {
            "cell_type": "markdown",
            "metadata": {},
            "source": "hmm, it's not very clear to compare the coefficients from a long and unsorted list. Next, you need to sort and visualize them using a bar chart\n"
        },
        {
            "cell_type": "markdown",
            "metadata": {},
            "source": "*TODO:* Sort the coefficient list in descending order and visualize the result using `ggplot` and `geom_bar`\n"
        },
        {
            "cell_type": "code",
            "execution_count": 109,
            "metadata": {
                "scrolled": false
            },
            "outputs": [],
            "source": "# Sort coefficient list\nlm_model_all$sort<-sort(abs(lm_model_all$fit$coefficients),decreasing = T)\ndf<-as.data.frame(summary(lm_model_all$fit)$coefficients)\ndf$coef<-rownames(df)\ndf<-drop_na(df)"
        },
        {
            "cell_type": "code",
            "execution_count": 108,
            "metadata": {},
            "outputs": [
                {
                    "data": {
                        "image/png": "[encoded data removed]",
                        "text/plain": "plot without title"
                    },
                    "metadata": {},
                    "output_type": "display_data"
                }
            ],
            "source": "# Visualize the list using ggplot and geom_bar\nggplot(df,aes(x=reorder(coef,Estimate,sum),y=Estimate))+geom_bar(stat=\"identity\") + coord_flip()"
        },
        {
            "cell_type": "markdown",
            "metadata": {},
            "source": "You should see a sorted coefficient bar chart like the following example:\n"
        },
        {
            "cell_type": "markdown",
            "metadata": {},
            "source": "<a href=\"https://cognitiveclass.ai/?utm_medium=Exinfluencer&utm_source=Exinfluencer&utm_content=000026UJ&utm_term=10006555&utm_id=NA-SkillsNetwork-Channel-SkillsNetworkCoursesIBMDeveloperSkillsNetworkRP0321ENSkillsNetwork25371262-2021-01-01\">\n    <img src=\"https://cf-courses-data.s3.us.cloud-object-storage.appdomain.cloud/IBMDeveloperSkillsNetwork-RP0321EN-SkillsNetwork/labs/module_4/images/coefficient_chart.png\" width=\"600\" align=\"center\">\n</a>\n"
        },
        {
            "cell_type": "markdown",
            "metadata": {},
            "source": "Mark down these 'top-ranked variables by coefficient', which will be used for model refinments in the next labs.\n"
        },
        {
            "cell_type": "markdown",
            "metadata": {},
            "source": "Note that here the main reason we use absolute value is to easily identify important variables, i.e. variables with large magnitudes, no matter it's negative or positive. If we want to interprete the model then it's better to seperate the positive and negative coefficients.\n"
        },
        {
            "cell_type": "markdown",
            "metadata": {},
            "source": "# Next Steps\n"
        },
        {
            "cell_type": "markdown",
            "metadata": {},
            "source": "Great! Now you have built a baseline linear regression model to predict hourly bike rent count, with reasonably good performance. In the next lab, you will be refining the baseline model to improve its performance.\n"
        },
        {
            "cell_type": "markdown",
            "metadata": {},
            "source": "## Authors\n\n<a href=\"https://www.linkedin.com/in/yan-luo-96288783/?utm_medium=Exinfluencer&utm_source=Exinfluencer&utm_content=000026UJ&utm_term=10006555&utm_id=NA-SkillsNetwork-Channel-SkillsNetworkCoursesIBMDeveloperSkillsNetworkRP0321ENSkillsNetwork25371262-2021-01-01\" target=\"_blank\">Yan Luo</a>\n"
        },
        {
            "cell_type": "markdown",
            "metadata": {},
            "source": "### Other Contributors\n\nJeff Grossman\n"
        },
        {
            "cell_type": "markdown",
            "metadata": {},
            "source": "## Change Log\n\n| Date (YYYY-MM-DD) | Version | Changed By | Change Description      |\n| ----------------- | ------- | ---------- | ----------------------- |\n| 2021-04-08        | 1.0     | Yan        | Initial version created |\n|                   |         |            |                         |\n|                   |         |            |                         |\n\n## <h3 align=\"center\"> \u00a9 IBM Corporation 2021. All rights reserved. <h3/>\n"
        }
    ],
    "metadata": {
        "kernelspec": {
            "display_name": "R 3.6",
            "language": "R",
            "name": "r"
        },
        "language_info": {
            "codemirror_mode": "r",
            "file_extension": ".r",
            "mimetype": "text/x-r-source",
            "name": "R",
            "pygments_lexer": "r",
            "version": "3.6.1"
        }
    },
    "nbformat": 4,
    "nbformat_minor": 4
}