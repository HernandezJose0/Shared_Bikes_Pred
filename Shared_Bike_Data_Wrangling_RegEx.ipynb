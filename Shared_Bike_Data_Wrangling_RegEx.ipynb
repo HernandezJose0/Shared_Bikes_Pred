{
    "cells": [
        {
            "cell_type": "markdown",
            "metadata": {},
            "source": "<a href=\"https://cognitiveclass.ai/?utm_medium=Exinfluencer&utm_source=Exinfluencer&utm_content=000026UJ&utm_term=10006555&utm_id=NA-SkillsNetwork-Channel-SkillsNetworkCoursesIBMDeveloperSkillsNetworkRP0321ENSkillsNetwork25371262-2021-01-01\">\n    <img src=\"https://cf-courses-data.s3.us.cloud-object-storage.appdomain.cloud/IBMDeveloperSkillsNetwork-RP0101EN-Coursera/v2/M1_R_Basics/images/IDSNlogo.png\" width=\"200\" align=\"center\">\n</a>\n"
        },
        {
            "cell_type": "markdown",
            "metadata": {},
            "source": "<h1>Data Wrangling with Regular Expressions</h1>\n\nEstimated time needed: **40** minutes\n"
        },
        {
            "cell_type": "markdown",
            "metadata": {},
            "source": "## Lab Overview:\n\nIn the previous data collection labs, you collected some raw datasets from several different sources. In this lab, you need to perform data wrangling tasks in order to improve data quality.\n"
        },
        {
            "cell_type": "markdown",
            "metadata": {},
            "source": "You will again use regular expressions, along with the `stringr` package (part of `tidyverse`), to clean up the bike-sharing systems data that you previously web scraped from the wiki page:\n\n[https://en.wikipedia.org/wiki/List_of_bicycle-sharing_systems](https://en.wikipedia.org/wiki/List_of_bicycle-sharing_systems?utm_medium=Exinfluencer&utm_source=Exinfluencer&utm_content=000026UJ&utm_term=10006555&utm_id=NA-SkillsNetwork-Channel-SkillsNetworkCoursesIBMDeveloperSkillsNetworkRP0321ENSkillsNetwork25371262-2021-01-01)\n\n<a href=\"https://cognitiveclass.ai/?utm_medium=Exinfluencer&utm_source=Exinfluencer&utm_content=000026UJ&utm_term=10006555&utm_id=NA-SkillsNetwork-Channel-SkillsNetworkCoursesIBMDeveloperSkillsNetworkRP0321ENSkillsNetwork25371262-2021-01-01\">\n    <img src=\"https://cf-courses-data.s3.us.cloud-object-storage.appdomain.cloud/IBMDeveloperSkillsNetwork-RP0321EN-SkillsNetwork/labs/module_1/images/l2-list-bike-sharing-systems.png\" width=\"800\" align=\"center\">\n</a>\n"
        },
        {
            "cell_type": "markdown",
            "metadata": {},
            "source": "One typical challenge of web scraping is that data extracted from HTML pages may contain unnecessary or inconsistently fomatted information.\\\nFor example:\n\n*   Textual annotations in numeric fields: `1000 (Updated with 1050)`\n*   Attached reference links: `Bike sharing system [123]`\n*   Inconsistent data formats: `Yes` and `Y` for the logical value `TRUE` or `2021-04-09` and `Apr 09, 2021` for the same date\n*   HTML style tags: `<span style=\"color:blue\">Bike sharing system</span>`\n*   Special characters: `&nbsp` for a white space\n\nMany more such examples of noise may be encountered in real-world scraped data and most of such text related noises could be handled by regular expressions.\n"
        },
        {
            "cell_type": "markdown",
            "metadata": {},
            "source": "To summarize, you will be using `stringr` (part of `tidyverse`) and regular expressions to perform the following data wrangling tasks:\n\n*   TASK: Standardize column names for all collected datasets\n*   TASK: Remove undesired reference links from the scraped bike-sharing systems dataset\n*   TASK: Extract only the numeric value from undesired text annotations\n"
        },
        {
            "cell_type": "markdown",
            "metadata": {},
            "source": "Let's begin by importing the libraries you will use for these data wrangling tasks.\n"
        },
        {
            "cell_type": "code",
            "execution_count": 4,
            "metadata": {},
            "outputs": [
                {
                    "name": "stderr",
                    "output_type": "stream",
                    "text": "Loading required package: tidyverse\nRegistered S3 methods overwritten by 'ggplot2':\n  method         from \n  [.quosures     rlang\n  c.quosures     rlang\n  print.quosures rlang\nRegistered S3 method overwritten by 'rvest':\n  method            from\n  read_xml.response xml2\n\u2500\u2500 Attaching packages \u2500\u2500\u2500\u2500\u2500\u2500\u2500\u2500\u2500\u2500\u2500\u2500\u2500\u2500\u2500\u2500\u2500\u2500\u2500\u2500\u2500\u2500\u2500\u2500\u2500\u2500\u2500\u2500\u2500\u2500\u2500\u2500\u2500\u2500\u2500\u2500\u2500\u2500\u2500 tidyverse 1.2.1 \u2500\u2500\n\u2714 ggplot2 3.1.1     \u2714 purrr   0.3.2\n\u2714 tibble  3.1.5     \u2714 dplyr   1.0.7\n\u2714 tidyr   1.1.4     \u2714 stringr 1.4.0\n\u2714 readr   1.3.1     \u2714 forcats 0.4.0\n\u2500\u2500 Conflicts \u2500\u2500\u2500\u2500\u2500\u2500\u2500\u2500\u2500\u2500\u2500\u2500\u2500\u2500\u2500\u2500\u2500\u2500\u2500\u2500\u2500\u2500\u2500\u2500\u2500\u2500\u2500\u2500\u2500\u2500\u2500\u2500\u2500\u2500\u2500\u2500\u2500\u2500\u2500\u2500\u2500\u2500 tidyverse_conflicts() \u2500\u2500\n\u2716 dplyr::filter() masks stats::filter()\n\u2716 dplyr::lag()    masks stats::lag()\n"
                }
            ],
            "source": "# Check whether you need to install the `tidyverse` library\nrequire(\"tidyverse\")\nlibrary(tidyverse)"
        },
        {
            "cell_type": "markdown",
            "metadata": {},
            "source": "## TASK: Standardize column names for all collected datasets\n"
        },
        {
            "cell_type": "markdown",
            "metadata": {},
            "source": "In the previous data collection labs, you collected four datasets in csv format:\n\n*   `raw_bike_sharing_systems.csv`:  A list of active bike-sharing systems across the world\n*   `raw_cities_weather_forecast.csv`: 5-day weather forecasts for a list of cities, from OpenWeather API\n*   `raw_worldcities.csv`: A list of major cities' info (such as name, latitude and longitude) across the world\n*   `raw_seoul_bike_sharing.csv`: Weather information (Temperature, Humidity, Windspeed, Visibility, Dewpoint, Solar radiation, Snowfall, Rainfall), the number of bikes rented per hour, and date information, from Seoul bike-sharing systems\n"
        },
        {
            "cell_type": "markdown",
            "metadata": {},
            "source": "*Optional:* If you had some difficulties finishing the data collection labs, you may download the datasets directly from the following URLs:\n"
        },
        {
            "cell_type": "code",
            "execution_count": 5,
            "metadata": {},
            "outputs": [],
            "source": "# Download raw_bike_sharing_systems.csv\nurl <- \"https://cf-courses-data.s3.us.cloud-object-storage.appdomain.cloud/IBMDeveloperSkillsNetwork-RP0321EN-SkillsNetwork/labs/datasets/raw_bike_sharing_systems.csv\"\ndownload.file(url, destfile = \"raw_bike_sharing_systems.csv\")\n\n# Download raw_cities_weather_forecast.csv\nurl <- \"https://cf-courses-data.s3.us.cloud-object-storage.appdomain.cloud/IBMDeveloperSkillsNetwork-RP0321EN-SkillsNetwork/labs/datasets/raw_cities_weather_forecast.csv\"\ndownload.file(url, destfile = \"raw_cities_weather_forecast.csv\")\n\n# Download raw_worldcities.csv\nurl <- \"https://cf-courses-data.s3.us.cloud-object-storage.appdomain.cloud/IBMDeveloperSkillsNetwork-RP0321EN-SkillsNetwork/labs/datasets/raw_worldcities.csv\"\ndownload.file(url, destfile = \"raw_worldcities.csv\")\n\n# Download raw_seoul_bike_sharing.csv\nurl <- \"https://cf-courses-data.s3.us.cloud-object-storage.appdomain.cloud/IBMDeveloperSkillsNetwork-RP0321EN-SkillsNetwork/labs/datasets/raw_seoul_bike_sharing.csv\"\ndownload.file(url, destfile = \"raw_seoul_bike_sharing.csv\")"
        },
        {
            "cell_type": "markdown",
            "metadata": {},
            "source": "To improve dataset readbility by both human and computer systems, we first need to standardize the column names of the datasets above using the following naming convention:\n\n*   Column names need to be UPPERCASE\n*   The word separator needs to be an underscore, such as in `COLUMN_NAME`\n"
        },
        {
            "cell_type": "markdown",
            "metadata": {},
            "source": "You can use the following dataset list and the `names()` function to get and set each of their column names, and convert them according to our defined naming convention.\n"
        },
        {
            "cell_type": "code",
            "execution_count": 13,
            "metadata": {},
            "outputs": [],
            "source": "dataset_list <- c('raw_bike_sharing_systems.csv', 'raw_seoul_bike_sharing.csv', 'raw_cities_weather_forecast.csv', 'raw_worldcities.csv')"
        },
        {
            "cell_type": "markdown",
            "metadata": {},
            "source": "*TODO*: Write a `for` loop to iterate over the above datasets and convert their column names\n"
        },
        {
            "cell_type": "code",
            "execution_count": 14,
            "metadata": {},
            "outputs": [
                {
                    "name": "stderr",
                    "output_type": "stream",
                    "text": "Parsed with column specification:\ncols(\n  COUNTRY = col_character(),\n  City = col_character(),\n  Name = col_character(),\n  SYSTEM = col_character(),\n  OPERATOR = col_character(),\n  LAUNCHED = col_character(),\n  DISCONTINUED = col_character(),\n  STATIONS = col_character(),\n  BICYCLES = col_character(),\n  DAILY_RIDERSHIP = col_character()\n)\nParsed with column specification:\ncols(\n  Date = col_character(),\n  RENTED_BIKE_COUNT = col_double(),\n  Hour = col_double(),\n  TEMPERATURE = col_double(),\n  HUMIDITY = col_double(),\n  WIND_SPEED = col_double(),\n  Visibility = col_double(),\n  DEW_POINT_TEMPERATURE = col_double(),\n  SOLAR_RADIATION = col_double(),\n  RAINFALL = col_double(),\n  Snowfall = col_double(),\n  SEASONS = col_character(),\n  HOLIDAY = col_character(),\n  FUNCTIONING_DAY = col_character()\n)\nParsed with column specification:\ncols(\n  city = col_character(),\n  weather = col_character(),\n  visibility = col_double(),\n  temp = col_double(),\n  temp_min = col_double(),\n  temp_max = col_double(),\n  pressure = col_double(),\n  humidity = col_double(),\n  wind_speed = col_double(),\n  wind_deg = col_double(),\n  season = col_character(),\n  forecast_datetime = col_datetime(format = \"\")\n)\nParsed with column specification:\ncols(\n  City = col_character(),\n  CITY_ASCII = col_character(),\n  LAT = col_double(),\n  LNG = col_double(),\n  COUNTRY = col_character(),\n  ISO2 = col_character(),\n  ISO3 = col_character(),\n  ADMIN_NAME = col_character(),\n  CAPITAL = col_character(),\n  POPULATION = col_double(),\n  ID = col_double()\n)\n"
                }
            ],
            "source": "for (dataset_name in dataset_list){\n    # Read dataset\n    dataset <- read_csv(dataset_name)\n    # Standardized its columns:\n    columns<-names(dataset)\n    # Convert all column names to uppercase\n    columns<-toupper(columns)\n    # Replace any white space separators by underscores, using the str_replace_all function\n    columns<-str_replace_all(columns,\"\\u0009\",\"_\")\n    names(dataset)<-columns\n    # Save the dataset \n    write.csv(dataset, dataset_name, row.names=FALSE)\n}\n"
        },
        {
            "cell_type": "markdown",
            "metadata": {},
            "source": "*TODO*: Read the resulting datasets back and check whether their column names follow the naming convention\n"
        },
        {
            "cell_type": "code",
            "execution_count": 15,
            "metadata": {},
            "outputs": [
                {
                    "name": "stderr",
                    "output_type": "stream",
                    "text": "Parsed with column specification:\ncols(\n  COUNTRY = col_character(),\n  CITY = col_character(),\n  NAME = col_character(),\n  SYSTEM = col_character(),\n  OPERATOR = col_character(),\n  LAUNCHED = col_character(),\n  DISCONTINUED = col_character(),\n  STATIONS = col_character(),\n  BICYCLES = col_character(),\n  DAILY_RIDERSHIP = col_character()\n)\nParsed with column specification:\ncols(\n  DATE = col_character(),\n  RENTED_BIKE_COUNT = col_double(),\n  HOUR = col_double(),\n  TEMPERATURE = col_double(),\n  HUMIDITY = col_double(),\n  WIND_SPEED = col_double(),\n  VISIBILITY = col_double(),\n  DEW_POINT_TEMPERATURE = col_double(),\n  SOLAR_RADIATION = col_double(),\n  RAINFALL = col_double(),\n  SNOWFALL = col_double(),\n  SEASONS = col_character(),\n  HOLIDAY = col_character(),\n  FUNCTIONING_DAY = col_character()\n)\nParsed with column specification:\ncols(\n  CITY = col_character(),\n  WEATHER = col_character(),\n  VISIBILITY = col_double(),\n  TEMP = col_double(),\n  TEMP_MIN = col_double(),\n  TEMP_MAX = col_double(),\n  PRESSURE = col_double(),\n  HUMIDITY = col_double(),\n  WIND_SPEED = col_double(),\n  WIND_DEG = col_double(),\n  SEASON = col_character(),\n  FORECAST_DATETIME = col_datetime(format = \"\")\n)\nParsed with column specification:\ncols(\n  CITY = col_character(),\n  CITY_ASCII = col_character(),\n  LAT = col_double(),\n  LNG = col_double(),\n  COUNTRY = col_character(),\n  ISO2 = col_character(),\n  ISO3 = col_character(),\n  ADMIN_NAME = col_character(),\n  CAPITAL = col_character(),\n  POPULATION = col_double(),\n  ID = col_double()\n)\n"
                }
            ],
            "source": "for (dataset_name in dataset_list){\n    # Print a summary for each data set to check whether the column names were correctly converted\n    dataset<-read_csv(dataset_name)\n    summarise(dataset)\n}"
        },
        {
            "cell_type": "markdown",
            "metadata": {},
            "source": "## Process the web-scraped bike sharing system dataset\n"
        },
        {
            "cell_type": "markdown",
            "metadata": {},
            "source": "By now we have standardized all column names. Next, we will focus on cleaning up the values in the web-scraped bike sharing systems dataset.\n"
        },
        {
            "cell_type": "code",
            "execution_count": 16,
            "metadata": {},
            "outputs": [
                {
                    "name": "stderr",
                    "output_type": "stream",
                    "text": "Parsed with column specification:\ncols(\n  COUNTRY = col_character(),\n  CITY = col_character(),\n  NAME = col_character(),\n  SYSTEM = col_character(),\n  OPERATOR = col_character(),\n  LAUNCHED = col_character(),\n  DISCONTINUED = col_character(),\n  STATIONS = col_character(),\n  BICYCLES = col_character(),\n  DAILY_RIDERSHIP = col_character()\n)\n"
                }
            ],
            "source": "# First load the dataset\nbike_sharing_df <- read_csv(\"raw_bike_sharing_systems.csv\")"
        },
        {
            "cell_type": "code",
            "execution_count": 17,
            "metadata": {},
            "outputs": [
                {
                    "data": {
                        "text/html": "<table>\n<thead><tr><th scope=col>COUNTRY</th><th scope=col>CITY</th><th scope=col>NAME</th><th scope=col>SYSTEM</th><th scope=col>OPERATOR</th><th scope=col>LAUNCHED</th><th scope=col>DISCONTINUED</th><th scope=col>STATIONS</th><th scope=col>BICYCLES</th><th scope=col>DAILY_RIDERSHIP</th></tr></thead>\n<tbody>\n\t<tr><td>Albania                       </td><td>Tirana                        </td><td>Ecovolis                      </td><td>NA                            </td><td>NA                            </td><td>March 2011                    </td><td>NA                            </td><td>8                             </td><td>200                           </td><td>NA                            </td></tr>\n\t<tr><td>Argentina                     </td><td>Mendoza                       </td><td>Metrobici                     </td><td>NA                            </td><td>NA                            </td><td>2014                          </td><td>NA                            </td><td>2                             </td><td>40                            </td><td>NA                            </td></tr>\n\t<tr><td>Argentina                     </td><td>San Lorenzo, Santa Fe         </td><td>Biciudad                      </td><td>Biciudad                      </td><td>NA                            </td><td>27 November 2016              </td><td>NA                            </td><td>8                             </td><td>80                            </td><td>NA                            </td></tr>\n\t<tr><td>Argentina                     </td><td>Buenos Aires                  </td><td>Ecobici                       </td><td>Serttel Brasil                </td><td>Bike In Baires Consortium.[10]</td><td>2010                          </td><td>NA                            </td><td>400                           </td><td>4000                          </td><td>21917                         </td></tr>\n\t<tr><td>Argentina                     </td><td>Rosario                       </td><td>Mi Bici Tu Bici[11]           </td><td>NA                            </td><td>NA                            </td><td>2 December 2015               </td><td>NA                            </td><td>47                            </td><td>480                           </td><td>NA                            </td></tr>\n\t<tr><td>Australia                                                             </td><td><span style=white-space:pre-wrap>Melbourne[12]        </span>         </td><td>Melbourne Bike Share                                                  </td><td><span style=white-space:pre-wrap>PBSC &amp; 8D     </span>            </td><td><span style=white-space:pre-wrap>Motivate                      </span></td><td><span style=white-space:pre-wrap>June 2010       </span>              </td><td>30 November 2019[13]                                                  </td><td>53                                                                    </td><td>676                                                                   </td><td><span style=white-space:pre-wrap>NA   </span>                         </td></tr>\n</tbody>\n</table>\n",
                        "text/latex": "\\begin{tabular}{r|llllllllll}\n COUNTRY & CITY & NAME & SYSTEM & OPERATOR & LAUNCHED & DISCONTINUED & STATIONS & BICYCLES & DAILY\\_RIDERSHIP\\\\\n\\hline\n\t Albania                        & Tirana                         & Ecovolis                       & NA                             & NA                             & March 2011                     & NA                             & 8                              & 200                            & NA                            \\\\\n\t Argentina                      & Mendoza                        & Metrobici                      & NA                             & NA                             & 2014                           & NA                             & 2                              & 40                             & NA                            \\\\\n\t Argentina                      & San Lorenzo, Santa Fe          & Biciudad                       & Biciudad                       & NA                             & 27 November 2016               & NA                             & 8                              & 80                             & NA                            \\\\\n\t Argentina                          & Buenos Aires                       & Ecobici                            & Serttel Brasil                     & Bike In Baires Consortium.{[}10{]} & 2010                               & NA                                 & 400                                & 4000                               & 21917                             \\\\\n\t Argentina                      & Rosario                        & Mi Bici Tu Bici{[}11{]}        & NA                             & NA                             & 2 December 2015                & NA                             & 47                             & 480                            & NA                            \\\\\n\t Australia                      & Melbourne{[}12{]}              & Melbourne Bike Share           & PBSC \\& 8D                    & Motivate                       & June 2010                      & 30 November 2019{[}13{]}       & 53                             & 676                            & NA                            \\\\\n\\end{tabular}\n",
                        "text/markdown": "\n| COUNTRY | CITY | NAME | SYSTEM | OPERATOR | LAUNCHED | DISCONTINUED | STATIONS | BICYCLES | DAILY_RIDERSHIP |\n|---|---|---|---|---|---|---|---|---|---|\n| Albania                        | Tirana                         | Ecovolis                       | NA                             | NA                             | March 2011                     | NA                             | 8                              | 200                            | NA                             |\n| Argentina                      | Mendoza                        | Metrobici                      | NA                             | NA                             | 2014                           | NA                             | 2                              | 40                             | NA                             |\n| Argentina                      | San Lorenzo, Santa Fe          | Biciudad                       | Biciudad                       | NA                             | 27 November 2016               | NA                             | 8                              | 80                             | NA                             |\n| Argentina                      | Buenos Aires                   | Ecobici                        | Serttel Brasil                 | Bike In Baires Consortium.[10] | 2010                           | NA                             | 400                            | 4000                           | 21917                          |\n| Argentina                      | Rosario                        | Mi Bici Tu Bici[11]            | NA                             | NA                             | 2 December 2015                | NA                             | 47                             | 480                            | NA                             |\n| Australia                      | Melbourne[12]                  | Melbourne Bike Share           | PBSC & 8D                      | Motivate                       | June 2010                      | 30 November 2019[13]           | 53                             | 676                            | NA                             |\n\n",
                        "text/plain": "  COUNTRY   CITY                  NAME                 SYSTEM        \n1 Albania   Tirana                Ecovolis             NA            \n2 Argentina Mendoza               Metrobici            NA            \n3 Argentina San Lorenzo, Santa Fe Biciudad             Biciudad      \n4 Argentina Buenos Aires          Ecobici              Serttel Brasil\n5 Argentina Rosario               Mi Bici Tu Bici[11]  NA            \n6 Australia Melbourne[12]         Melbourne Bike Share PBSC & 8D     \n  OPERATOR                       LAUNCHED         DISCONTINUED         STATIONS\n1 NA                             March 2011       NA                   8       \n2 NA                             2014             NA                   2       \n3 NA                             27 November 2016 NA                   8       \n4 Bike In Baires Consortium.[10] 2010             NA                   400     \n5 NA                             2 December 2015  NA                   47      \n6 Motivate                       June 2010        30 November 2019[13] 53      \n  BICYCLES DAILY_RIDERSHIP\n1 200      NA             \n2 40       NA             \n3 80       NA             \n4 4000     21917          \n5 480      NA             \n6 676      NA             "
                    },
                    "metadata": {},
                    "output_type": "display_data"
                }
            ],
            "source": "# Print its head\nhead(bike_sharing_df)"
        },
        {
            "cell_type": "markdown",
            "metadata": {},
            "source": "Even from the first few rows, you can see there is plenty of undesireable embedded textual content, such as the reference link included in `Melbourne[12]`.\n"
        },
        {
            "cell_type": "markdown",
            "metadata": {},
            "source": "In this project, let's only focus on processing the following revelant columns (feel free to process the other columns for more practice):\n\n*   `COUNTRY`: Country name\n*   `CITY`: City name\n*   `SYSTEM`: Bike-sharing system name\n*   `BICYCLES`: Total number of bikes in the system\n"
        },
        {
            "cell_type": "code",
            "execution_count": 18,
            "metadata": {},
            "outputs": [],
            "source": "# Select the four columns\nsub_bike_sharing_df <- bike_sharing_df %>% select(COUNTRY, CITY, SYSTEM, BICYCLES)"
        },
        {
            "cell_type": "markdown",
            "metadata": {},
            "source": "Let's see the types of the selected columns\n"
        },
        {
            "cell_type": "code",
            "execution_count": 19,
            "metadata": {},
            "outputs": [
                {
                    "data": {
                        "text/html": "<table>\n<thead><tr><th scope=col>variable</th><th scope=col>class</th></tr></thead>\n<tbody>\n\t<tr><td>COUNTRY  </td><td>character</td></tr>\n\t<tr><td>CITY     </td><td>character</td></tr>\n\t<tr><td>SYSTEM   </td><td>character</td></tr>\n\t<tr><td>BICYCLES </td><td>character</td></tr>\n</tbody>\n</table>\n",
                        "text/latex": "\\begin{tabular}{r|ll}\n variable & class\\\\\n\\hline\n\t COUNTRY   & character\\\\\n\t CITY      & character\\\\\n\t SYSTEM    & character\\\\\n\t BICYCLES  & character\\\\\n\\end{tabular}\n",
                        "text/markdown": "\n| variable | class |\n|---|---|\n| COUNTRY   | character |\n| CITY      | character |\n| SYSTEM    | character |\n| BICYCLES  | character |\n\n",
                        "text/plain": "  variable class    \n1 COUNTRY  character\n2 CITY     character\n3 SYSTEM   character\n4 BICYCLES character"
                    },
                    "metadata": {},
                    "output_type": "display_data"
                }
            ],
            "source": "sub_bike_sharing_df %>% \n    summarize_all(class) %>%\n    gather(variable, class)"
        },
        {
            "cell_type": "markdown",
            "metadata": {},
            "source": "They are all interpreted as character columns, but we expect the `BICYCLES` column to be of numeric type. Let's see why it wasn't loaded as a numeric column - possibly some entries contain characters. Let's create a simple function called `find_character` to check that.\n"
        },
        {
            "cell_type": "code",
            "execution_count": 20,
            "metadata": {},
            "outputs": [],
            "source": "# grepl searches a string for non-digital characters, and returns TRUE or FALSE\n# if it finds any non-digital characters, then the bicyle column is not purely numeric\nfind_character <- function(strings) grepl(\"[^0-9]\", strings)"
        },
        {
            "cell_type": "markdown",
            "metadata": {},
            "source": "Let's try to find any elements in the `Bicycles` column containing non-numeric characters.\n"
        },
        {
            "cell_type": "code",
            "execution_count": 21,
            "metadata": {},
            "outputs": [
                {
                    "data": {
                        "text/html": "<table>\n<thead><tr><th scope=col>BICYCLES</th></tr></thead>\n<tbody>\n\t<tr><td>4115[22]                  </td></tr>\n\t<tr><td>310[59]                   </td></tr>\n\t<tr><td>500[72]                   </td></tr>\n\t<tr><td>[75]                      </td></tr>\n\t<tr><td>180[76]                   </td></tr>\n\t<tr><td>600[77]                   </td></tr>\n\t<tr><td>[78]                      </td></tr>\n\t<tr><td>initially 800 (later 2500)</td></tr>\n\t<tr><td>100 (220)                 </td></tr>\n\t<tr><td>370[114]                  </td></tr>\n</tbody>\n</table>\n",
                        "text/latex": "\\begin{tabular}{r|l}\n BICYCLES\\\\\n\\hline\n\t 4115{[}22{]}                  \\\\\n\t 310{[}59{]}                   \\\\\n\t 500{[}72{]}                   \\\\\n\t {[}75{]}                      \\\\\n\t 180{[}76{]}                   \\\\\n\t 600{[}77{]}                   \\\\\n\t {[}78{]}                      \\\\\n\t initially 800 (later 2500)\\\\\n\t 100 (220)                 \\\\\n\t 370{[}114{]}                  \\\\\n\\end{tabular}\n",
                        "text/markdown": "\n| BICYCLES |\n|---|\n| 4115[22]                   |\n| 310[59]                    |\n| 500[72]                    |\n| [75]                       |\n| 180[76]                    |\n| 600[77]                    |\n| [78]                       |\n| initially 800 (later 2500) |\n| 100 (220)                  |\n| 370[114]                   |\n\n",
                        "text/plain": "   BICYCLES                  \n1  4115[22]                  \n2  310[59]                   \n3  500[72]                   \n4  [75]                      \n5  180[76]                   \n6  600[77]                   \n7  [78]                      \n8  initially 800 (later 2500)\n9  100 (220)                 \n10 370[114]                  "
                    },
                    "metadata": {},
                    "output_type": "display_data"
                }
            ],
            "source": "sub_bike_sharing_df %>% \n    select(BICYCLES) %>% \n    filter(find_character(BICYCLES)) %>%\n    slice(0:10)"
        },
        {
            "cell_type": "markdown",
            "metadata": {},
            "source": "As you can see, many rows have non-numeric characters, such as `32 (including 6 rollers) [162]` and `1000[253]`. This is actually very common for a table scraped from Wiki when no input validation is enforced.\n\nLater, you will use regular expressions to clean them up.\n"
        },
        {
            "cell_type": "markdown",
            "metadata": {},
            "source": "Next, let's take a look at the other columns, namely `COUNTRY`, `CITY`, and `SYSTEM`, to see if they contain any undesired reference links, such as in `Melbourne[12]`.\n"
        },
        {
            "cell_type": "code",
            "execution_count": 22,
            "metadata": {},
            "outputs": [],
            "source": "# Define a 'reference link' character class, \n# `[A-z0-9]` means at least one character \n# `\\\\[` and `\\\\]` means the character is wrapped by [], such as for [12] or [abc]\nref_pattern <- \"\\\\[[A-z0-9]+\\\\]\"\nfind_reference_pattern <- function(strings) grepl(ref_pattern, strings)"
        },
        {
            "cell_type": "code",
            "execution_count": 23,
            "metadata": {},
            "outputs": [
                {
                    "data": {
                        "text/html": "<table>\n<thead><tr><th scope=col>COUNTRY</th></tr></thead>\n<tbody>\n</tbody>\n</table>\n",
                        "text/latex": "\\begin{tabular}{r|l}\n COUNTRY\\\\\n\\hline\n\\end{tabular}\n",
                        "text/markdown": "\n| COUNTRY |\n|---|\n\n",
                        "text/plain": "     COUNTRY"
                    },
                    "metadata": {},
                    "output_type": "display_data"
                }
            ],
            "source": "# Check whether the COUNTRY column has any reference links\nsub_bike_sharing_df %>% \n    select(COUNTRY) %>% \n    filter(find_reference_pattern(COUNTRY)) %>%\n    slice(0:10)"
        },
        {
            "cell_type": "markdown",
            "metadata": {},
            "source": "Ok, looks like the `COUNTRY` column is clean. Let's check the `CITY` column.\n"
        },
        {
            "cell_type": "code",
            "execution_count": 24,
            "metadata": {},
            "outputs": [
                {
                    "data": {
                        "text/html": "<table>\n<thead><tr><th scope=col>CITY</th></tr></thead>\n<tbody>\n\t<tr><td>Melbourne[12]        </td></tr>\n\t<tr><td>Brisbane[14][15]     </td></tr>\n\t<tr><td>Lower Austria[18]    </td></tr>\n\t<tr><td>Namur[19]            </td></tr>\n\t<tr><td>Brussels[21]         </td></tr>\n\t<tr><td>Salvador[23]         </td></tr>\n\t<tr><td>Belo Horizonte[24]   </td></tr>\n\t<tr><td>Jo\u00e3o Pessoa[25]      </td></tr>\n\t<tr><td>(Pedro de) Toledo[26]</td></tr>\n\t<tr><td>Rio de Janeiro[27]   </td></tr>\n</tbody>\n</table>\n",
                        "text/latex": "\\begin{tabular}{r|l}\n CITY\\\\\n\\hline\n\t Melbourne{[}12{]}        \\\\\n\t Brisbane{[}14{]}{[}15{]}     \\\\\n\t Lower Austria{[}18{]}    \\\\\n\t Namur{[}19{]}            \\\\\n\t Brussels{[}21{]}         \\\\\n\t Salvador{[}23{]}         \\\\\n\t Belo Horizonte{[}24{]}   \\\\\n\t Jo\u00e3o Pessoa{[}25{]}      \\\\\n\t (Pedro de) Toledo{[}26{]}\\\\\n\t Rio de Janeiro{[}27{]}   \\\\\n\\end{tabular}\n",
                        "text/markdown": "\n| CITY |\n|---|\n| Melbourne[12]         |\n| Brisbane[14][15]      |\n| Lower Austria[18]     |\n| Namur[19]             |\n| Brussels[21]          |\n| Salvador[23]          |\n| Belo Horizonte[24]    |\n| Jo\u00e3o Pessoa[25]       |\n| (Pedro de) Toledo[26] |\n| Rio de Janeiro[27]    |\n\n",
                        "text/plain": "   CITY                 \n1  Melbourne[12]        \n2  Brisbane[14][15]     \n3  Lower Austria[18]    \n4  Namur[19]            \n5  Brussels[21]         \n6  Salvador[23]         \n7  Belo Horizonte[24]   \n8  Jo\u00e3o Pessoa[25]      \n9  (Pedro de) Toledo[26]\n10 Rio de Janeiro[27]   "
                    },
                    "metadata": {},
                    "output_type": "display_data"
                }
            ],
            "source": "# Check whether the CITY column has any reference links\nsub_bike_sharing_df %>% \n    select(CITY) %>% \n    filter(find_reference_pattern(CITY)) %>%\n    slice(0:10)"
        },
        {
            "cell_type": "markdown",
            "metadata": {},
            "source": "Hmm, looks like the `CITY` column has some reference links to be removed. Next, let's check the `SYSTEM` column.\n"
        },
        {
            "cell_type": "code",
            "execution_count": 25,
            "metadata": {},
            "outputs": [
                {
                    "data": {
                        "text/html": "<table>\n<thead><tr><th scope=col>SYSTEM</th></tr></thead>\n<tbody>\n\t<tr><td>EasyBike[58]                     </td></tr>\n\t<tr><td>4 Gen.[61]                       </td></tr>\n\t<tr><td>3 Gen. SmooveKey[113]            </td></tr>\n\t<tr><td>3 Gen. Smoove[141][142][143][139]</td></tr>\n\t<tr><td>3 Gen. Smoove[179]               </td></tr>\n\t<tr><td>3 Gen. Smoove[181]               </td></tr>\n\t<tr><td>3 Gen. Smoove[183]               </td></tr>\n</tbody>\n</table>\n",
                        "text/latex": "\\begin{tabular}{r|l}\n SYSTEM\\\\\n\\hline\n\t EasyBike{[}58{]}                     \\\\\n\t 4 Gen.{[}61{]}                       \\\\\n\t 3 Gen. SmooveKey{[}113{]}            \\\\\n\t 3 Gen. Smoove{[}141{]}{[}142{]}{[}143{]}{[}139{]}\\\\\n\t 3 Gen. Smoove{[}179{]}               \\\\\n\t 3 Gen. Smoove{[}181{]}               \\\\\n\t 3 Gen. Smoove{[}183{]}               \\\\\n\\end{tabular}\n",
                        "text/markdown": "\n| SYSTEM |\n|---|\n| EasyBike[58]                      |\n| 4 Gen.[61]                        |\n| 3 Gen. SmooveKey[113]             |\n| 3 Gen. Smoove[141][142][143][139] |\n| 3 Gen. Smoove[179]                |\n| 3 Gen. Smoove[181]                |\n| 3 Gen. Smoove[183]                |\n\n",
                        "text/plain": "  SYSTEM                           \n1 EasyBike[58]                     \n2 4 Gen.[61]                       \n3 3 Gen. SmooveKey[113]            \n4 3 Gen. Smoove[141][142][143][139]\n5 3 Gen. Smoove[179]               \n6 3 Gen. Smoove[181]               \n7 3 Gen. Smoove[183]               "
                    },
                    "metadata": {},
                    "output_type": "display_data"
                }
            ],
            "source": "# Check whether the System column has any reference links\nsub_bike_sharing_df %>% \n    select(SYSTEM) %>% \n    filter(find_reference_pattern(SYSTEM)) %>%\n    slice(0:10)"
        },
        {
            "cell_type": "markdown",
            "metadata": {},
            "source": "So the `SYSTEM` column also has some reference links.\n"
        },
        {
            "cell_type": "markdown",
            "metadata": {},
            "source": "After some preliminary investigations, we identified that the `CITY` and `SYSTEM` columns have some undesired reference links, and the `BICYCLES` column has both reference links and some\ntextual annotations.\n\nNext, you need to use regular expressions to clean up the unexpected reference links and text annotations in numeric values.\n"
        },
        {
            "cell_type": "markdown",
            "metadata": {},
            "source": "# TASK: Remove undesired reference links using regular expressions\n"
        },
        {
            "cell_type": "markdown",
            "metadata": {},
            "source": "*TODO:* Write a custom function using `stringr::str_replace_all` to replace all reference links with an empty character for columns `CITY` and `SYSTEM`\n"
        },
        {
            "cell_type": "code",
            "execution_count": 26,
            "metadata": {},
            "outputs": [],
            "source": "# remove reference link\nremove_ref <- function(strings) {\n    ref_pattern <- \"\\\\[[A-z0-9]+\\\\]\"\n    # Replace all matched substrings with a white space using str_replace_all()\n    result<-str_replace_all(strings,ref_pattern,\" \")\n    # Trim the reslt if you want\n    result<-trimws(result)\n    return(result)\n}"
        },
        {
            "cell_type": "markdown",
            "metadata": {},
            "source": "*TODO:* Use the `dplyr::mutate()` function to apply the `remove_ref` function to the `CITY` and `SYSTEM` columns\n"
        },
        {
            "cell_type": "code",
            "execution_count": 27,
            "metadata": {},
            "outputs": [],
            "source": "# sub_bike_sharing_df %>% mutate(column1=remove_ref(column1), ... )\nresult<-sub_bike_sharing_df %>% mutate(CITY=remove_ref(CITY),SYSTEM=remove_ref(SYSTEM))"
        },
        {
            "cell_type": "markdown",
            "metadata": {},
            "source": "*TODO:* Use the following code to check whether all reference links are removed:\n"
        },
        {
            "cell_type": "code",
            "execution_count": 28,
            "metadata": {},
            "outputs": [
                {
                    "data": {
                        "text/html": "<table>\n<thead><tr><th scope=col>CITY</th><th scope=col>SYSTEM</th><th scope=col>BICYCLES</th></tr></thead>\n<tbody>\n\t<tr><td>Brussels                                                                               </td><td>3 Gen. Cyclocity                                                                       </td><td>4115[22]                                                                               </td></tr>\n\t<tr><td>Limassol (&amp; Agios Dometios, Aglandjia, Dali, Engomi, Latsia, Pallouriotissa, Strovolos)</td><td><span style=white-space:pre-wrap>3 Gen. Smoove                  </span>                    </td><td><span style=white-space:pre-wrap>310[59]                        </span>                    </td></tr>\n\t<tr><td>Prague                                                                                 </td><td>NA                                                                                     </td><td>500[72]                                                                                </td></tr>\n\t<tr><td>Prague 7                                                                               </td><td>4 Gen. Ofo                                                                             </td><td>[75]                                                                                   </td></tr>\n\t<tr><td>Prost\u011bjov                                                                              </td><td>3 Gen. nextbike                                                                        </td><td>180[76]                                                                                </td></tr>\n\t<tr><td>Ostrava                                                                                </td><td>3 Gen. nextbike                                                                        </td><td>600[77]                                                                                </td></tr>\n\t<tr><td>Fars\u00f8                                                                                  </td><td>2 Gen                                                                                  </td><td>[78]                                                                                   </td></tr>\n\t<tr><td>Batumi                                                                                 </td><td>3 Gen. SmooveKey                                                                       </td><td>370[114]                                                                               </td></tr>\n\t<tr><td><span style=white-space:pre-wrap>Darmstadt                                                                              </span></td><td><span style=white-space:pre-wrap>3 &amp; 4 Gen. Call a Bike flex    </span>                                                    </td><td><span style=white-space:pre-wrap>350 [125]                      </span>                                                        </td></tr>\n\t<tr><td>Corfu                                                                                  </td><td>3 Gen. Smoove                                                                          </td><td>100[58]                                                                                </td></tr>\n\t<tr><td>Budapest                                                                               </td><td>3 Gen.                                                                                 </td><td>1526[159]                                                                              </td></tr>\n\t<tr><td>Gy\u0151r                                                                                   </td><td>NA                                                                                     </td><td>180[161]                                                                               </td></tr>\n\t<tr><td>Kaposv\u00e1r                                                                               </td><td>NA                                                                                     </td><td>32 (including 6 rollers)  [162]                                                        </td></tr>\n\t<tr><td>Milan                                                                                  </td><td>3 Gen. Clear CC                                                                        </td><td>4650 (1000 E)[174]                                                                     </td></tr>\n\t<tr><td>Towns and cities in the Netherlands: all over the country, mainly at railway stations  </td><td>OV-Fiets/Nederlandse Spoorwegen                                                        </td><td>21700 [187]                                                                            </td></tr>\n\t<tr><td>Kazan                                                                                  </td><td>3 Gen. Cyclocity                                                                       </td><td>120[206]                                                                               </td></tr>\n\t<tr><td>Bratislava                                                                             </td><td>NA                                                                                     </td><td>400[208]                                                                               </td></tr>\n\t<tr><td>Ko\u0161ice                                                                                 </td><td>NA                                                                                     </td><td>200[212]                                                                               </td></tr>\n\t<tr><td>Moldava nad Bodvou                                                                     </td><td>NA                                                                                     </td><td>25[214]                                                                                </td></tr>\n\t<tr><td>Poprad                                                                                 </td><td>NA                                                                                     </td><td>85[217]                                                                                </td></tr>\n\t<tr><td>\u017dilina                                                                                 </td><td>nextbike                                                                               </td><td>120[221]                                                                               </td></tr>\n\t<tr><td>Changwon                                                                               </td><td>NA                                                                                     </td><td>2348[230]                                                                              </td></tr>\n\t<tr><td>Glasgow (Scotland)                                                                     </td><td>3 Gen. nextbike                                                                        </td><td>400[251]                                                                               </td></tr>\n\t<tr><td>Edinburgh (Scotland)                                                                   </td><td>Urban Sharing                                                                          </td><td>500[252]                                                                               </td></tr>\n\t<tr><td>Liverpool (England)                                                                    </td><td>NA                                                                                     </td><td>1000[253]                                                                              </td></tr>\n</tbody>\n</table>\n",
                        "text/latex": "\\begin{tabular}{r|lll}\n CITY & SYSTEM & BICYCLES\\\\\n\\hline\n\t Brussels                                                                                & 3 Gen. Cyclocity                                                                        & 4115{[}22{]}                                                                           \\\\\n\t Limassol (\\& Agios Dometios, Aglandjia, Dali, Engomi, Latsia, Pallouriotissa, Strovolos) & 3 Gen. Smoove                                                                             & 310{[}59{]}                                                                              \\\\\n\t Prague                                                                                  & NA                                                                                      & 500{[}72{]}                                                                            \\\\\n\t Prague 7                                                                                & 4 Gen. Ofo                                                                              & {[}75{]}                                                                               \\\\\n\t Prost\u011bjov                                                                               & 3 Gen. nextbike                                                                         & 180{[}76{]}                                                                            \\\\\n\t Ostrava                                                                                 & 3 Gen. nextbike                                                                         & 600{[}77{]}                                                                            \\\\\n\t Fars\u00f8                                                                                   & 2 Gen                                                                                   & {[}78{]}                                                                               \\\\\n\t Batumi                                                                                  & 3 Gen. SmooveKey                                                                        & 370{[}114{]}                                                                           \\\\\n\t Darmstadt                                                                               & 3 \\& 4 Gen. Call a Bike flex                                                           & 350 {[}125{]}                                                                          \\\\\n\t Corfu                                                                                   & 3 Gen. Smoove                                                                           & 100{[}58{]}                                                                            \\\\\n\t Budapest                                                                                & 3 Gen.                                                                                  & 1526{[}159{]}                                                                          \\\\\n\t Gy\u0151r                                                                                    & NA                                                                                      & 180{[}161{]}                                                                           \\\\\n\t Kaposv\u00e1r                                                                                & NA                                                                                      & 32 (including 6 rollers)  {[}162{]}                                                    \\\\\n\t Milan                                                                                   & 3 Gen. Clear CC                                                                         & 4650 (1000 E){[}174{]}                                                                 \\\\\n\t Towns and cities in the Netherlands: all over the country, mainly at railway stations   & OV-Fiets/Nederlandse Spoorwegen                                                         & 21700 {[}187{]}                                                                        \\\\\n\t Kazan                                                                                   & 3 Gen. Cyclocity                                                                        & 120{[}206{]}                                                                           \\\\\n\t Bratislava                                                                              & NA                                                                                      & 400{[}208{]}                                                                           \\\\\n\t Ko\u0161ice                                                                                  & NA                                                                                      & 200{[}212{]}                                                                           \\\\\n\t Moldava nad Bodvou                                                                      & NA                                                                                      & 25{[}214{]}                                                                            \\\\\n\t Poprad                                                                                  & NA                                                                                      & 85{[}217{]}                                                                            \\\\\n\t \u017dilina                                                                                  & nextbike                                                                                & 120{[}221{]}                                                                           \\\\\n\t Changwon                                                                                & NA                                                                                      & 2348{[}230{]}                                                                          \\\\\n\t Glasgow (Scotland)                                                                      & 3 Gen. nextbike                                                                         & 400{[}251{]}                                                                           \\\\\n\t Edinburgh (Scotland)                                                                    & Urban Sharing                                                                           & 500{[}252{]}                                                                           \\\\\n\t Liverpool (England)                                                                     & NA                                                                                      & 1000{[}253{]}                                                                          \\\\\n\\end{tabular}\n",
                        "text/markdown": "\n| CITY | SYSTEM | BICYCLES |\n|---|---|---|\n| Brussels                                                                                | 3 Gen. Cyclocity                                                                        | 4115[22]                                                                                |\n| Limassol (& Agios Dometios, Aglandjia, Dali, Engomi, Latsia, Pallouriotissa, Strovolos) | 3 Gen. Smoove                                                                           | 310[59]                                                                                 |\n| Prague                                                                                  | NA                                                                                      | 500[72]                                                                                 |\n| Prague 7                                                                                | 4 Gen. Ofo                                                                              | [75]                                                                                    |\n| Prost\u011bjov                                                                               | 3 Gen. nextbike                                                                         | 180[76]                                                                                 |\n| Ostrava                                                                                 | 3 Gen. nextbike                                                                         | 600[77]                                                                                 |\n| Fars\u00f8                                                                                   | 2 Gen                                                                                   | [78]                                                                                    |\n| Batumi                                                                                  | 3 Gen. SmooveKey                                                                        | 370[114]                                                                                |\n| Darmstadt                                                                               | 3 & 4 Gen. Call a Bike flex                                                             | 350 [125]                                                                               |\n| Corfu                                                                                   | 3 Gen. Smoove                                                                           | 100[58]                                                                                 |\n| Budapest                                                                                | 3 Gen.                                                                                  | 1526[159]                                                                               |\n| Gy\u0151r                                                                                    | NA                                                                                      | 180[161]                                                                                |\n| Kaposv\u00e1r                                                                                | NA                                                                                      | 32 (including 6 rollers)  [162]                                                         |\n| Milan                                                                                   | 3 Gen. Clear CC                                                                         | 4650 (1000 E)[174]                                                                      |\n| Towns and cities in the Netherlands: all over the country, mainly at railway stations   | OV-Fiets/Nederlandse Spoorwegen                                                         | 21700 [187]                                                                             |\n| Kazan                                                                                   | 3 Gen. Cyclocity                                                                        | 120[206]                                                                                |\n| Bratislava                                                                              | NA                                                                                      | 400[208]                                                                                |\n| Ko\u0161ice                                                                                  | NA                                                                                      | 200[212]                                                                                |\n| Moldava nad Bodvou                                                                      | NA                                                                                      | 25[214]                                                                                 |\n| Poprad                                                                                  | NA                                                                                      | 85[217]                                                                                 |\n| \u017dilina                                                                                  | nextbike                                                                                | 120[221]                                                                                |\n| Changwon                                                                                | NA                                                                                      | 2348[230]                                                                               |\n| Glasgow (Scotland)                                                                      | 3 Gen. nextbike                                                                         | 400[251]                                                                                |\n| Edinburgh (Scotland)                                                                    | Urban Sharing                                                                           | 500[252]                                                                                |\n| Liverpool (England)                                                                     | NA                                                                                      | 1000[253]                                                                               |\n\n",
                        "text/plain": "   CITY                                                                                   \n1  Brussels                                                                               \n2  Limassol (& Agios Dometios, Aglandjia, Dali, Engomi, Latsia, Pallouriotissa, Strovolos)\n3  Prague                                                                                 \n4  Prague 7                                                                               \n5  Prost\u011bjov                                                                              \n6  Ostrava                                                                                \n7  Fars\u00f8                                                                                  \n8  Batumi                                                                                 \n9  Darmstadt                                                                              \n10 Corfu                                                                                  \n11 Budapest                                                                               \n12 Gy\u0151r                                                                                   \n13 Kaposv\u00e1r                                                                               \n14 Milan                                                                                  \n15 Towns and cities in the Netherlands: all over the country, mainly at railway stations  \n16 Kazan                                                                                  \n17 Bratislava                                                                             \n18 Ko\u0161ice                                                                                 \n19 Moldava nad Bodvou                                                                     \n20 Poprad                                                                                 \n21 \u017dilina                                                                                 \n22 Changwon                                                                               \n23 Glasgow (Scotland)                                                                     \n24 Edinburgh (Scotland)                                                                   \n25 Liverpool (England)                                                                    \n   SYSTEM                          BICYCLES                       \n1  3 Gen. Cyclocity                4115[22]                       \n2  3 Gen. Smoove                   310[59]                        \n3  NA                              500[72]                        \n4  4 Gen. Ofo                      [75]                           \n5  3 Gen. nextbike                 180[76]                        \n6  3 Gen. nextbike                 600[77]                        \n7  2 Gen                           [78]                           \n8  3 Gen. SmooveKey                370[114]                       \n9  3 & 4 Gen. Call a Bike flex     350 [125]                      \n10 3 Gen. Smoove                   100[58]                        \n11 3 Gen.                          1526[159]                      \n12 NA                              180[161]                       \n13 NA                              32 (including 6 rollers)  [162]\n14 3 Gen. Clear CC                 4650 (1000 E)[174]             \n15 OV-Fiets/Nederlandse Spoorwegen 21700 [187]                    \n16 3 Gen. Cyclocity                120[206]                       \n17 NA                              400[208]                       \n18 NA                              200[212]                       \n19 NA                              25[214]                        \n20 NA                              85[217]                        \n21 nextbike                        120[221]                       \n22 NA                              2348[230]                      \n23 3 Gen. nextbike                 400[251]                       \n24 Urban Sharing                   500[252]                       \n25 NA                              1000[253]                      "
                    },
                    "metadata": {},
                    "output_type": "display_data"
                }
            ],
            "source": "result %>% \n    select(CITY, SYSTEM, BICYCLES) %>% \n    filter(find_reference_pattern(CITY) | find_reference_pattern(SYSTEM) | find_reference_pattern(BICYCLES))"
        },
        {
            "cell_type": "markdown",
            "metadata": {},
            "source": "# TASK: Extract the numeric value using regular expressions\n"
        },
        {
            "cell_type": "markdown",
            "metadata": {},
            "source": "*TODO:* Write a custom function using `stringr::str_extract` to extract the first digital substring match and convert it into numeric type For example, extract the value '32' from `32 (including 6 rollers) [162]`.\n"
        },
        {
            "cell_type": "code",
            "execution_count": 42,
            "metadata": {},
            "outputs": [],
            "source": "# Extract the first number\nextract_num <- function(columns){\n    # Define a digital pattern\n    digitals_pattern <- \"[0-9]+\"\n    # Find the first match using str_extract\n    num<-str_extract(columns,digitals_pattern)\n    # Convert the result to numeric using the as.numeric() function\n    num<-as.numeric(num)\n    return(num)\n}"
        },
        {
            "cell_type": "markdown",
            "metadata": {},
            "source": "*TODO:* Use the `dplyr::mutate()` function to apply `extract_num` on the `BICYCLES` column\n"
        },
        {
            "cell_type": "code",
            "execution_count": 44,
            "metadata": {},
            "outputs": [],
            "source": "# Use the mutate() function on the BICYCLES column\nresult<-result %>% mutate(BICYCLES=extract_num(BICYCLES))"
        },
        {
            "cell_type": "markdown",
            "metadata": {},
            "source": "*TODO:* Use the summary function to check the descriptive statistics of the numeric `BICYCLES` column\n"
        },
        {
            "cell_type": "code",
            "execution_count": 45,
            "metadata": {},
            "outputs": [
                {
                    "data": {
                        "text/plain": "   Min. 1st Qu.  Median    Mean 3rd Qu.    Max.    NA's \n      5     100     343    2012    1400   78000      76 "
                    },
                    "metadata": {},
                    "output_type": "display_data"
                }
            ],
            "source": "summary(result$BICYCLES)"
        },
        {
            "cell_type": "markdown",
            "metadata": {},
            "source": "*TODO:* Write the cleaned bike-sharing systems dataset into a csv file called `bike_sharing_systems.csv`\n"
        },
        {
            "cell_type": "code",
            "execution_count": 46,
            "metadata": {},
            "outputs": [],
            "source": "# Write dataset to `bike_sharing_systems.csv`\nwrite_csv(result,\"bike_sharing_systems.csv\")"
        },
        {
            "cell_type": "markdown",
            "metadata": {},
            "source": "# References:\n"
        },
        {
            "cell_type": "markdown",
            "metadata": {},
            "source": "If you need to refresh your memory about regular expressions, please refer to this good Regular Expression cheat sheet:\n\n<a href=\"https://www.rstudio.com/wp-content/uploads/2016/09/RegExCheatsheet.pdf?utm_medium=Exinfluencer&utm_source=Exinfluencer&utm_content=000026UJ&utm_term=10006555&utm_id=NA-SkillsNetwork-Channel-SkillsNetworkCoursesIBMDeveloperSkillsNetworkRP0321ENSkillsNetwork25371262-2021-01-01\" target=\"_blank\">Basic Regular Expressions in R</a>\n"
        },
        {
            "cell_type": "markdown",
            "metadata": {},
            "source": "# Next Steps\n"
        },
        {
            "cell_type": "markdown",
            "metadata": {},
            "source": "Great! Now you have cleaned up the bike-sharing system dataset using regular expressions. Next, you will use other `tidyverse` functions to perform data wrangling on the bike-sharing demand dataset.\n"
        },
        {
            "cell_type": "markdown",
            "metadata": {},
            "source": "## Authors\n\n<a href=\"https://www.linkedin.com/in/yan-luo-96288783/?utm_medium=Exinfluencer&utm_source=Exinfluencer&utm_content=000026UJ&utm_term=10006555&utm_id=NA-SkillsNetwork-Channel-SkillsNetworkCoursesIBMDeveloperSkillsNetworkRP0321ENSkillsNetwork25371262-2021-01-01\" target=\"_blank\">Yan Luo</a>\n"
        },
        {
            "cell_type": "markdown",
            "metadata": {},
            "source": "### Other Contributors\n\nJeff Grossman\n"
        },
        {
            "cell_type": "markdown",
            "metadata": {},
            "source": "## Change Log\n\n| Date (YYYY-MM-DD) | Version | Changed By | Change Description      |\n| ----------------- | ------- | ---------- | ----------------------- |\n| 2021-04-08        | 1.0     | Yan        | Initial version created |\n|                   |         |            |                         |\n|                   |         |            |                         |\n\n## <h3 align=\"center\"> \u00a9 IBM Corporation 2021. All rights reserved. <h3/>\n"
        }
    ],
    "metadata": {
        "kernelspec": {
            "display_name": "R 3.6",
            "language": "R",
            "name": "r"
        },
        "language_info": {
            "codemirror_mode": "r",
            "file_extension": ".r",
            "mimetype": "text/x-r-source",
            "name": "R",
            "pygments_lexer": "r",
            "version": "3.6.1"
        }
    },
    "nbformat": 4,
    "nbformat_minor": 4
}