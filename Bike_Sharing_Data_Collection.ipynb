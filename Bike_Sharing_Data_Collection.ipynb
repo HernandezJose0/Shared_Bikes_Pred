{
    "cells": [
        {
            "cell_type": "markdown",
            "metadata": {},
            "source": "<a href=\"https://cognitiveclass.ai/?utm_medium=Exinfluencer&utm_source=Exinfluencer&utm_content=000026UJ&utm_term=10006555&utm_id=NA-SkillsNetwork-Channel-SkillsNetworkCoursesIBMDeveloperSkillsNetworkRP0321ENSkillsNetwork25371262-2021-01-01\">\n    <img src=\"https://cf-courses-data.s3.us.cloud-object-storage.appdomain.cloud/IBMDeveloperSkillsNetwork-RP0101EN-Coursera/v2/M1_R_Basics/images/IDSNlogo.png\" width=\"200\" align=\"center\">\n</a>\n"
        },
        {
            "cell_type": "markdown",
            "metadata": {},
            "source": "<h1>Web scrape a Global Bike-Sharing Systems Wiki Page</h1>\n\nEstimated time needed: **20** minutes\n"
        },
        {
            "cell_type": "markdown",
            "metadata": {},
            "source": "## Lab Overview:\n\nBefore getting your hands dirty on the actual data analysis tasks, you first need to obtain some background and context information about well-known bike sharing systems worldwide, such as their location, launch date, rental bike size, and so on.\n\nYou can get such information from this Wiki page:\n\n[https://en.wikipedia.org/wiki/List_of_bicycle-sharing_systems](https://en.wikipedia.org/wiki/List_of_bicycle-sharing_systems?utm_medium=Exinfluencer&utm_source=Exinfluencer&utm_content=000026UJ&utm_term=10006555&utm_id=NA-SkillsNetwork-Channel-SkillsNetworkCoursesIBMDeveloperSkillsNetworkRP0321ENSkillsNetwork25371262-2021-01-01)\n\n<a href=\"https://cognitiveclass.ai/?utm_medium=Exinfluencer&utm_source=Exinfluencer&utm_content=000026UJ&utm_term=10006555&utm_id=NA-SkillsNetwork-Channel-SkillsNetworkCoursesIBMDeveloperSkillsNetworkRP0321ENSkillsNetwork25371262-2021-01-01\">\n    <img src=\"https://cf-courses-data.s3.us.cloud-object-storage.appdomain.cloud/IBMDeveloperSkillsNetwork-RP0321EN-SkillsNetwork/labs/module_1/images/l2-list-bike-sharing-systems.png\" width=\"600\" align=\"center\">\n</a>\n"
        },
        {
            "cell_type": "markdown",
            "metadata": {},
            "source": "First import necessary libraries for the webscraping task.\n"
        },
        {
            "cell_type": "markdown",
            "metadata": {},
            "source": "In this lab, you need to use the `rvest` library to obtain the bike sharing systems table from the above web page, convert the table into a data frame, and write the data frame to a csv file for future data wrangling and analysis tasks.\n"
        },
        {
            "cell_type": "code",
            "execution_count": 21,
            "metadata": {},
            "outputs": [
                {
                    "name": "stderr",
                    "output_type": "stream",
                    "text": "also installing the dependency \u2018xml2\u2019\n\nUpdating HTML index of packages in '.Library'\nMaking 'packages.html' ... done\n"
                }
            ],
            "source": "# Check if need to install rvest` library\ninstall.packages(\"rvest\")\nrequire(\"rvest\")\nlibrary(rvest)"
        },
        {
            "cell_type": "markdown",
            "metadata": {},
            "source": "# TASK: Extract bike sharing systems HTML table from a Wiki page and convert it into a data frame\n"
        },
        {
            "cell_type": "markdown",
            "metadata": {},
            "source": "*TODO:* Get the root HTML node\n"
        },
        {
            "cell_type": "code",
            "execution_count": 28,
            "metadata": {},
            "outputs": [
                {
                    "data": {
                        "text/plain": "{xml_document}\n<html class=\"client-nojs\" lang=\"en\" dir=\"ltr\">\n[1] <head>\\n<meta http-equiv=\"Content-Type\" content=\"text/html; charset=UTF-8 ...\n[2] <body class=\"mediawiki ltr sitedir-ltr mw-hide-empty-elt ns-0 ns-subject  ..."
                    },
                    "metadata": {},
                    "output_type": "display_data"
                },
                {
                    "name": "stdout",
                    "output_type": "stream",
                    "text": "{xml_node}\n<table class=\"box-Copy_edit plainlinks metadata ambox ambox-style ambox-Copy_edit\" role=\"presentation\">\n[1] <tbody><tr>\\n<td class=\"mbox-image\"><div style=\"width:52px\"><img alt=\"\" s ...\n{xml_node}\n<table class=\"wikitable sortable\" style=\"text-align:left\">\n[1] <tbody>\\n<tr>\\n<th>Country</th>\\n<th>City</th>\\n<th>Name</th>\\n<th>System ...\n{xml_node}\n<table class=\"nowraplinks mw-collapsible autocollapse navbox-inner\" style=\"border-spacing:0;background:transparent;color:inherit\">\n[1] <tbody>\\n<tr><th scope=\"col\" class=\"navbox-title\" colspan=\"2\">\\n<style da ...\n{xml_node}\n<table class=\"nowraplinks navbox-subgroup\" style=\"border-spacing:0\">\n[1] <tbody>\\n<tr>\\n<th scope=\"row\" class=\"navbox-group\" style=\"width:1%\">East ...\n{xml_node}\n<table class=\"nowraplinks navbox-subgroup\" style=\"border-spacing:0\">\n[1] <tbody>\\n<tr>\\n<th scope=\"row\" class=\"navbox-group\" style=\"width:1%\">Cana ...\n"
                }
            ],
            "source": "url <- \"https://en.wikipedia.org/wiki/List_of_bicycle-sharing_systems\"\n# Get the root HTML node by calling the `read_html()` method with URL\nroot_node<-read_html(url)\nroot_node\ntables<-html_nodes(root_node,\"table\")\nfor(table in tables){\n    print(table)\n}"
        },
        {
            "cell_type": "markdown",
            "metadata": {},
            "source": "Note that this HTML page at least contains three child `<table>` nodes under the root HTML node. So, you will need to use `html_nodes(root_node, \"table\")` function to get all its child `<table>` nodes:\n\n```\n<html>\n  <table>(table1)</table>\n  <table>(table2)</table>\n  <table>(table3)</table>\n  ...\n</html>\n```\n"
        },
        {
            "cell_type": "markdown",
            "metadata": {},
            "source": "table_nodes <- html_nodes(root_node, \"table\")\n"
        },
        {
            "cell_type": "markdown",
            "metadata": {},
            "source": "You can use a `for` loop to print each table, and then you will see that the actual the bike sharing table is the second element `table_nodes[[2]]`.\n"
        },
        {
            "cell_type": "markdown",
            "metadata": {},
            "source": "Next, you need to convert this HTML table into a data frame using the `html_table()` function. You may choose to include `fill = TRUE` argument to fill any empty table rows/columns.\n"
        },
        {
            "cell_type": "code",
            "execution_count": 29,
            "metadata": {},
            "outputs": [
                {
                    "data": {
                        "text/html": "<table>\n<thead><tr><th scope=col>Country</th><th scope=col>City</th><th scope=col>Name</th><th scope=col>System</th><th scope=col>Operator</th><th scope=col>Launched</th><th scope=col>Discontinued</th><th scope=col>Stations</th><th scope=col>Bicycles</th><th scope=col>Daily ridership</th></tr></thead>\n<tbody>\n\t<tr><td>Albania                      </td><td>Tirana[5]                    </td><td>Ecovolis                     </td><td>                             </td><td>                             </td><td>March 2011                   </td><td>                             </td><td>8                            </td><td>200                          </td><td>                             </td></tr>\n\t<tr><td>Argentina                    </td><td>Buenos Aires[6][7]           </td><td>Ecobici                      </td><td>Serttel Brasil[8]            </td><td>Bike In Baires Consortium.[9]</td><td>2010                         </td><td>                             </td><td>400                          </td><td>4000                         </td><td>21917                        </td></tr>\n\t<tr><td>Argentina                    </td><td>Mendoza[10]                  </td><td>Metrobici                    </td><td>                             </td><td>                             </td><td>2014                         </td><td>                             </td><td>2                            </td><td>40                           </td><td>                             </td></tr>\n\t<tr><td>Argentina                    </td><td>Rosario                      </td><td>Mi Bici Tu Bici[11]          </td><td>                             </td><td>                             </td><td>2 December 2015              </td><td>                             </td><td>47                           </td><td>480                          </td><td>                             </td></tr>\n\t<tr><td>Argentina                    </td><td>San Lorenzo, Santa Fe        </td><td>Biciudad                     </td><td>Biciudad                     </td><td>                             </td><td>27 November 2016             </td><td>                             </td><td>8                            </td><td>80                           </td><td>                             </td></tr>\n\t<tr><td>Australia                                                            </td><td><span style=white-space:pre-wrap>Melbourne[12]        </span>        </td><td>Melbourne Bike Share                                                 </td><td><span style=white-space:pre-wrap>PBSC &amp; 8D        </span>        </td><td><span style=white-space:pre-wrap>Motivate                     </span></td><td><span style=white-space:pre-wrap>June 2010       </span>             </td><td>30 November 2019[13]                                                 </td><td>53                                                                   </td><td>676                                                                  </td><td><span style=white-space:pre-wrap>     </span>                        </td></tr>\n</tbody>\n</table>\n",
                        "text/latex": "\\begin{tabular}{r|llllllllll}\n Country & City & Name & System & Operator & Launched & Discontinued & Stations & Bicycles & Daily ridership\\\\\n\\hline\n\t Albania                       & Tirana{[}5{]}                 & Ecovolis                      &                               &                               & March 2011                    &                               & 8                             & 200                           &                              \\\\\n\t Argentina                         & Buenos Aires{[}6{]}{[}7{]}        & Ecobici                           & Serttel Brasil{[}8{]}             & Bike In Baires Consortium.{[}9{]} & 2010                              &                                   & 400                               & 4000                              & 21917                            \\\\\n\t Argentina                     & Mendoza{[}10{]}               & Metrobici                     &                               &                               & 2014                          &                               & 2                             & 40                            &                              \\\\\n\t Argentina                     & Rosario                       & Mi Bici Tu Bici{[}11{]}       &                               &                               & 2 December 2015               &                               & 47                            & 480                           &                              \\\\\n\t Argentina                     & San Lorenzo, Santa Fe         & Biciudad                      & Biciudad                      &                               & 27 November 2016              &                               & 8                             & 80                            &                              \\\\\n\t Australia                     & Melbourne{[}12{]}             & Melbourne Bike Share          & PBSC \\& 8D                   & Motivate                      & June 2010                     & 30 November 2019{[}13{]}      & 53                            & 676                           &                              \\\\\n\\end{tabular}\n",
                        "text/markdown": "\n| Country | City | Name | System | Operator | Launched | Discontinued | Stations | Bicycles | Daily ridership |\n|---|---|---|---|---|---|---|---|---|---|\n| Albania                       | Tirana[5]                     | Ecovolis                      |                               |                               | March 2011                    |                               | 8                             | 200                           |                               |\n| Argentina                     | Buenos Aires[6][7]            | Ecobici                       | Serttel Brasil[8]             | Bike In Baires Consortium.[9] | 2010                          |                               | 400                           | 4000                          | 21917                         |\n| Argentina                     | Mendoza[10]                   | Metrobici                     |                               |                               | 2014                          |                               | 2                             | 40                            |                               |\n| Argentina                     | Rosario                       | Mi Bici Tu Bici[11]           |                               |                               | 2 December 2015               |                               | 47                            | 480                           |                               |\n| Argentina                     | San Lorenzo, Santa Fe         | Biciudad                      | Biciudad                      |                               | 27 November 2016              |                               | 8                             | 80                            |                               |\n| Australia                     | Melbourne[12]                 | Melbourne Bike Share          | PBSC & 8D                     | Motivate                      | June 2010                     | 30 November 2019[13]          | 53                            | 676                           |                               |\n\n",
                        "text/plain": "  Country   City                  Name                 System           \n1 Albania   Tirana[5]             Ecovolis                              \n2 Argentina Buenos Aires[6][7]    Ecobici              Serttel Brasil[8]\n3 Argentina Mendoza[10]           Metrobici                             \n4 Argentina Rosario               Mi Bici Tu Bici[11]                   \n5 Argentina San Lorenzo, Santa Fe Biciudad             Biciudad         \n6 Australia Melbourne[12]         Melbourne Bike Share PBSC & 8D        \n  Operator                      Launched         Discontinued         Stations\n1                               March 2011                            8       \n2 Bike In Baires Consortium.[9] 2010                                  400     \n3                               2014                                  2       \n4                               2 December 2015                       47      \n5                               27 November 2016                      8       \n6 Motivate                      June 2010        30 November 2019[13] 53      \n  Bicycles Daily ridership\n1 200                     \n2 4000     21917          \n3 40                      \n4 480                     \n5 80                      \n6 676                     "
                    },
                    "metadata": {},
                    "output_type": "display_data"
                }
            ],
            "source": "# Convert the bike-sharing system table into a dataframe\nbike_df<-html_table(tables[[2]],fill=T)\nhead(bike_df)"
        },
        {
            "cell_type": "markdown",
            "metadata": {},
            "source": "Summarize the bike sharing system data frame\n"
        },
        {
            "cell_type": "code",
            "execution_count": 30,
            "metadata": {},
            "outputs": [
                {
                    "data": {
                        "text/plain": "   Country              City               Name              System         \n Length:515         Length:515         Length:515         Length:515        \n Class :character   Class :character   Class :character   Class :character  \n Mode  :character   Mode  :character   Mode  :character   Mode  :character  \n   Operator           Launched         Discontinued         Stations        \n Length:515         Length:515         Length:515         Length:515        \n Class :character   Class :character   Class :character   Class :character  \n Mode  :character   Mode  :character   Mode  :character   Mode  :character  \n   Bicycles         Daily ridership   \n Length:515         Length:515        \n Class :character   Class :character  \n Mode  :character   Mode  :character  "
                    },
                    "metadata": {},
                    "output_type": "display_data"
                }
            ],
            "source": "# Summarize the dataframe\nsummary(bike_df)"
        },
        {
            "cell_type": "markdown",
            "metadata": {},
            "source": "Export the data frame as a csv file called `raw_bike_sharing_systems.csv`\n"
        },
        {
            "cell_type": "code",
            "execution_count": 31,
            "metadata": {},
            "outputs": [],
            "source": "# Export the dataframe into a csv file\nwrite.csv(bike_df,\"raw_bike_sharing_systems.csv\")"
        },
        {
            "cell_type": "markdown",
            "metadata": {},
            "source": "For more details about webscraping with `rvest`, please refer to the previous webscraping notebook here:\n\n[Webscraping in R](https://cf-courses-data.s3.us.cloud-object-storage.appdomain.cloud/IBMDeveloperSkillsNetwork-RP0101EN-Coursera/v2/M4\\_Working_With_Data/lab3\\_jupyter_webscraping.ipynb)\n"
        },
        {
            "cell_type": "markdown",
            "metadata": {},
            "source": "## Authors\n\n<a href=\"https://www.linkedin.com/in/yan-luo-96288783/?utm_medium=Exinfluencer&utm_source=Exinfluencer&utm_content=000026UJ&utm_term=10006555&utm_id=NA-SkillsNetwork-Channel-SkillsNetworkCoursesIBMDeveloperSkillsNetworkRP0321ENSkillsNetwork25371262-2021-01-01\" target=\"_blank\">Yan Luo</a>\n"
        },
        {
            "cell_type": "markdown",
            "metadata": {},
            "source": "### Other Contributors\n"
        },
        {
            "cell_type": "markdown",
            "metadata": {},
            "source": "## Change Log\n\n| Date (YYYY-MM-DD) | Version | Changed By | Change Description      |\n| ----------------- | ------- | ---------- | ----------------------- |\n| 2021-04-05        | 0.1     | Yan        | Initial version created |\n|                   |         |            |                         |\n|                   |         |            |                         |\n\n## <h3 align=\"center\"> \u00a9 IBM Corporation 2021. All rights reserved. <h3/>\n"
        }
    ],
    "metadata": {
        "kernelspec": {
            "display_name": "R 3.6",
            "language": "R",
            "name": "r"
        },
        "language_info": {
            "codemirror_mode": "r",
            "file_extension": ".r",
            "mimetype": "text/x-r-source",
            "name": "R",
            "pygments_lexer": "r",
            "version": "3.6.1"
        }
    },
    "nbformat": 4,
    "nbformat_minor": 4
}